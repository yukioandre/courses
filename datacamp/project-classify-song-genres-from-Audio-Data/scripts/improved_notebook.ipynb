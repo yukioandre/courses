{
 "cells": [
  {
   "cell_type": "code",
   "execution_count": 53,
   "metadata": {},
   "outputs": [
    {
     "data": {
      "application/javascript": [
       "\n",
       "            setTimeout(function() {\n",
       "                var nbb_cell_id = 53;\n",
       "                var nbb_unformatted_code = \"#### Settings ###########\\nimport seaborn as sns; sns.set()\\nimport pandas as pd; pd.options.display.max_columns = 500; pd.options.display.max_rows = 500\\nimport matplotlib.pyplot as plt; plt.style.use(\\\"classic\\\"); plt.rcParams[\\\"figure.figsize\\\"] = [10, 5]\\n%load_ext nb_black\";\n",
       "                var nbb_formatted_code = \"#### Settings ###########\\nimport seaborn as sns\\n\\nsns.set()\\nimport pandas as pd\\n\\npd.options.display.max_columns = 500\\npd.options.display.max_rows = 500\\nimport matplotlib.pyplot as plt\\n\\nplt.style.use(\\\"classic\\\")\\nplt.rcParams[\\\"figure.figsize\\\"] = [10, 5]\\n%load_ext nb_black\";\n",
       "                var nbb_cells = Jupyter.notebook.get_cells();\n",
       "                for (var i = 0; i < nbb_cells.length; ++i) {\n",
       "                    if (nbb_cells[i].input_prompt_number == nbb_cell_id) {\n",
       "                        if (nbb_cells[i].get_text() == nbb_unformatted_code) {\n",
       "                             nbb_cells[i].set_text(nbb_formatted_code);\n",
       "                        }\n",
       "                        break;\n",
       "                    }\n",
       "                }\n",
       "            }, 500);\n",
       "            "
      ],
      "text/plain": [
       "<IPython.core.display.Javascript object>"
      ]
     },
     "metadata": {},
     "output_type": "display_data"
    }
   ],
   "source": [
    "#### Settings ###########\n",
    "import seaborn as sns\n",
    "\n",
    "sns.set()\n",
    "import pandas as pd\n",
    "\n",
    "pd.options.display.max_columns = 500\n",
    "pd.options.display.max_rows = 500\n",
    "import matplotlib.pyplot as plt\n",
    "\n",
    "plt.style.use(\"classic\")\n",
    "plt.rcParams[\"figure.figsize\"] = [10, 5]\n",
    "%load_ext nb_black"
   ]
  },
  {
   "cell_type": "markdown",
   "metadata": {},
   "source": [
    "Há um projeto no Datacamp chamado <b>Classify Song Genres from Audio Data</b>. Nele, construímos um modelo de árvore de decisão, com redução de dimensionalidade via PCA, para classificar estilos musicais. O projeto possui uma falha de Data Leakage e acredito que a estrutura possa ser melhorada com um Pipeline. Este notebook fará essas alterações para explorar um código melhor estruturado e um modelo com melhor acurácia.\n",
    "\n",
    "Primeiro, o projeto rodou uma árvore de decisão e obteve acurácia de 86%. Em seguida, testou-se uma regressão logística, que atingiu 89%. Abaixo, o classification report dos dois modelos testados:\n",
    "<img src='modelo_desbalanceado.png'>\n",
    "\n",
    "Em seguida, construiu-se modelos com os dados balanceados. Nesse caso, a acurácia foi de 77% e 83%. O classification report:\n",
    "<img src='modelo_balanceado.png'>"
   ]
  },
  {
   "cell_type": "markdown",
   "metadata": {},
   "source": [
    "## MELHORIA COM PIPELINE + RANDOM FOREST"
   ]
  },
  {
   "cell_type": "code",
   "execution_count": 3,
   "metadata": {},
   "outputs": [
    {
     "data": {
      "text/html": [
       "<div>\n",
       "<style scoped>\n",
       "    .dataframe tbody tr th:only-of-type {\n",
       "        vertical-align: middle;\n",
       "    }\n",
       "\n",
       "    .dataframe tbody tr th {\n",
       "        vertical-align: top;\n",
       "    }\n",
       "\n",
       "    .dataframe thead th {\n",
       "        text-align: right;\n",
       "    }\n",
       "</style>\n",
       "<table border=\"1\" class=\"dataframe\">\n",
       "  <thead>\n",
       "    <tr style=\"text-align: right;\">\n",
       "      <th></th>\n",
       "      <th>track_id</th>\n",
       "      <th>acousticness</th>\n",
       "      <th>danceability</th>\n",
       "      <th>energy</th>\n",
       "      <th>instrumentalness</th>\n",
       "      <th>liveness</th>\n",
       "      <th>speechiness</th>\n",
       "      <th>tempo</th>\n",
       "      <th>valence</th>\n",
       "      <th>genre_top</th>\n",
       "    </tr>\n",
       "  </thead>\n",
       "  <tbody>\n",
       "    <tr>\n",
       "      <th>0</th>\n",
       "      <td>2</td>\n",
       "      <td>0.416675</td>\n",
       "      <td>0.675894</td>\n",
       "      <td>0.634476</td>\n",
       "      <td>0.010628</td>\n",
       "      <td>0.177647</td>\n",
       "      <td>0.159310</td>\n",
       "      <td>165.922</td>\n",
       "      <td>0.576661</td>\n",
       "      <td>Hip-Hop</td>\n",
       "    </tr>\n",
       "    <tr>\n",
       "      <th>1</th>\n",
       "      <td>3</td>\n",
       "      <td>0.374408</td>\n",
       "      <td>0.528643</td>\n",
       "      <td>0.817461</td>\n",
       "      <td>0.001851</td>\n",
       "      <td>0.105880</td>\n",
       "      <td>0.461818</td>\n",
       "      <td>126.957</td>\n",
       "      <td>0.269240</td>\n",
       "      <td>Hip-Hop</td>\n",
       "    </tr>\n",
       "    <tr>\n",
       "      <th>2</th>\n",
       "      <td>5</td>\n",
       "      <td>0.043567</td>\n",
       "      <td>0.745566</td>\n",
       "      <td>0.701470</td>\n",
       "      <td>0.000697</td>\n",
       "      <td>0.373143</td>\n",
       "      <td>0.124595</td>\n",
       "      <td>100.260</td>\n",
       "      <td>0.621661</td>\n",
       "      <td>Hip-Hop</td>\n",
       "    </tr>\n",
       "    <tr>\n",
       "      <th>3</th>\n",
       "      <td>134</td>\n",
       "      <td>0.452217</td>\n",
       "      <td>0.513238</td>\n",
       "      <td>0.560410</td>\n",
       "      <td>0.019443</td>\n",
       "      <td>0.096567</td>\n",
       "      <td>0.525519</td>\n",
       "      <td>114.290</td>\n",
       "      <td>0.894072</td>\n",
       "      <td>Hip-Hop</td>\n",
       "    </tr>\n",
       "    <tr>\n",
       "      <th>4</th>\n",
       "      <td>153</td>\n",
       "      <td>0.988306</td>\n",
       "      <td>0.255661</td>\n",
       "      <td>0.979774</td>\n",
       "      <td>0.973006</td>\n",
       "      <td>0.121342</td>\n",
       "      <td>0.051740</td>\n",
       "      <td>90.241</td>\n",
       "      <td>0.034018</td>\n",
       "      <td>Rock</td>\n",
       "    </tr>\n",
       "  </tbody>\n",
       "</table>\n",
       "</div>"
      ],
      "text/plain": [
       "   track_id  acousticness  danceability    energy  instrumentalness  liveness  \\\n",
       "0         2      0.416675      0.675894  0.634476          0.010628  0.177647   \n",
       "1         3      0.374408      0.528643  0.817461          0.001851  0.105880   \n",
       "2         5      0.043567      0.745566  0.701470          0.000697  0.373143   \n",
       "3       134      0.452217      0.513238  0.560410          0.019443  0.096567   \n",
       "4       153      0.988306      0.255661  0.979774          0.973006  0.121342   \n",
       "\n",
       "   speechiness    tempo   valence genre_top  \n",
       "0     0.159310  165.922  0.576661   Hip-Hop  \n",
       "1     0.461818  126.957  0.269240   Hip-Hop  \n",
       "2     0.124595  100.260  0.621661   Hip-Hop  \n",
       "3     0.525519  114.290  0.894072   Hip-Hop  \n",
       "4     0.051740   90.241  0.034018      Rock  "
      ]
     },
     "execution_count": 3,
     "metadata": {},
     "output_type": "execute_result"
    }
   ],
   "source": [
    "# Import libraris\n",
    "import pandas as pd\n",
    "\n",
    "# Read in track metadata with genre labels\n",
    "tracks = pd.read_csv('fma-rock-vs-hiphop.csv')\n",
    "\n",
    "# Read in track metrics with the features\n",
    "echonest_metrics = pd.read_json('echonest-metrics.json',precise_float=True)\n",
    "\n",
    "# Merge the relevant columns of tracks and echonest_metrics\n",
    "echo_tracks = pd.merge(echonest_metrics,\n",
    "                       tracks[['track_id','genre_top']],\n",
    "                       on='track_id')\n",
    "\n",
    "# Inspect the resultant dataframe\n",
    "echo_tracks.head()"
   ]
  },
  {
   "cell_type": "code",
   "execution_count": 4,
   "metadata": {},
   "outputs": [],
   "source": [
    "# Define our features \n",
    "features = echo_tracks.drop(columns=['genre_top', 'track_id'], axis=1)\n",
    "\n",
    "# Define our labels\n",
    "labels = echo_tracks['genre_top']"
   ]
  },
  {
   "cell_type": "code",
   "execution_count": 8,
   "metadata": {},
   "outputs": [],
   "source": [
    "from sklearn.model_selection import train_test_split\n",
    "X_train, X_test, y_train, y_test = train_test_split(features, labels, random_state=0)"
   ]
  },
  {
   "cell_type": "code",
   "execution_count": 36,
   "metadata": {},
   "outputs": [
    {
     "name": "stdout",
     "output_type": "stream",
     "text": [
      "Random Forest Accuracy: \n",
      " 0.9109075770191507\n",
      "Random Forest: \n",
      "               precision    recall  f1-score   support\n",
      "\n",
      "     Hip-Hop       0.81      0.71      0.76       237\n",
      "        Rock       0.93      0.96      0.95       964\n",
      "\n",
      "    accuracy                           0.91      1201\n",
      "   macro avg       0.87      0.84      0.85      1201\n",
      "weighted avg       0.91      0.91      0.91      1201\n",
      "\n"
     ]
    },
    {
     "data": {
      "text/plain": [
       "array([[169,  68],\n",
       "       [ 39, 925]])"
      ]
     },
     "execution_count": 36,
     "metadata": {},
     "output_type": "execute_result"
    }
   ],
   "source": [
    "# MODELO COM PIPELINE\n",
    "from sklearn.pipeline import Pipeline\n",
    "from sklearn.preprocessing import OneHotEncoder, StandardScaler, MinMaxScaler\n",
    "from sklearn.compose import ColumnTransformer\n",
    "from sklearn.decomposition import PCA\n",
    "from sklearn.tree import DecisionTreeClassifier\n",
    "from sklearn.impute import SimpleImputer\n",
    "\n",
    "# Criando o Preprocessamento no Pipeline\n",
    "numeric_transformer = Pipeline(steps=[\n",
    "    ('imputer', SimpleImputer(strategy='median')),\n",
    "    ('scaler', StandardScaler())])\n",
    "\n",
    "preprocessor = ColumnTransformer(\n",
    "    transformers=[\n",
    "        ('num', numeric_transformer, X_train.columns)])\n",
    "\n",
    "# Pipeline com random forest\n",
    "from sklearn.ensemble import RandomForestClassifier\n",
    "rf = Pipeline(steps=[('preprocessor', preprocessor),\n",
    "                      ('classifier', RandomForestClassifier())])\n",
    "\n",
    "\n",
    "# Fita o modelo\n",
    "rf.fit(X_train, y_train)\n",
    "\n",
    "# predicoes\n",
    "y_pred = rf.predict(X_test)\n",
    "\n",
    "# Acurácia do modelo\n",
    "from sklearn.metrics import accuracy_score\n",
    "print(\"Random Forest Accuracy: \\n\",accuracy_score(y_test, y_pred))\n",
    "\n",
    "# Classification report\n",
    "from sklearn.metrics import classification_report\n",
    "class_rep_rf = classification_report(y_test, y_pred)\n",
    "\n",
    "print(\"Random Forest: \\n\", class_rep_rf)\n",
    "\n",
    "# Matriz de Confusao\n",
    "from sklearn.metrics import confusion_matrix\n",
    "confusion_matrix(y_test, y_pred)"
   ]
  },
  {
   "cell_type": "code",
   "execution_count": 38,
   "metadata": {},
   "outputs": [
    {
     "name": "stderr",
     "output_type": "stream",
     "text": [
      "/Users/andremota/opt/anaconda3/lib/python3.7/site-packages/sklearn/model_selection/_split.py:297: FutureWarning: Setting a random_state has no effect since shuffle is False. This will raise an error in 0.24. You should leave random_state to its default (None), or set shuffle=True.\n",
      "  FutureWarning\n"
     ]
    },
    {
     "name": "stdout",
     "output_type": "stream",
     "text": [
      "Random Forest:  0.92640350877193\n"
     ]
    }
   ],
   "source": [
    "# Avaliação com kfold\n",
    "from sklearn.model_selection import KFold, cross_val_score\n",
    "import numpy as np\n",
    "\n",
    "# Set up our K-fold cross-validation\n",
    "kf = KFold(n_splits=10, random_state=10)\n",
    "\n",
    "rf = RandomForestClassifier(random_state=10)\n",
    "\n",
    "# Train our models using KFold cv\n",
    "rf_score = cross_val_score(rf, X_train, y_train, cv = kf)\n",
    "\n",
    "# Print the mean of each array of scores\n",
    "print(\"Random Forest: \", np.mean(rf_score))"
   ]
  },
  {
   "cell_type": "markdown",
   "metadata": {},
   "source": [
    "O modelo foi bem melhor que o que foi feito no projeto. O único problema é que está errando bem mais para o hip-hop. <br>\n",
    "Uma alternativa é usar class weight, alguma técnica de oversampling/undersampling ou simplesmente construir um modelo com amostras balanceadas.<br>\n",
    "Veremos isso mais para frente."
   ]
  },
  {
   "cell_type": "markdown",
   "metadata": {},
   "source": [
    "## RANDOMIZED SEARCH"
   ]
  },
  {
   "cell_type": "markdown",
   "metadata": {},
   "source": [
    "Vamos tunar os hiperparâmetros da Random Forest, mas com o Randomized porque o Grid vai levar a vida toda."
   ]
  },
  {
   "cell_type": "code",
   "execution_count": 51,
   "metadata": {},
   "outputs": [
    {
     "name": "stdout",
     "output_type": "stream",
     "text": [
      "Fitting 3 folds for each of 300 candidates, totalling 900 fits\n"
     ]
    },
    {
     "name": "stderr",
     "output_type": "stream",
     "text": [
      "[Parallel(n_jobs=-1)]: Using backend LokyBackend with 4 concurrent workers.\n",
      "[Parallel(n_jobs=-1)]: Done  33 tasks      | elapsed:  1.9min\n",
      "[Parallel(n_jobs=-1)]: Done 154 tasks      | elapsed:  8.2min\n",
      "[Parallel(n_jobs=-1)]: Done 357 tasks      | elapsed: 20.0min\n",
      "[Parallel(n_jobs=-1)]: Done 640 tasks      | elapsed: 33.6min\n",
      "[Parallel(n_jobs=-1)]: Done 900 out of 900 | elapsed: 45.4min finished\n"
     ]
    },
    {
     "name": "stdout",
     "output_type": "stream",
     "text": [
      "{'n_estimators': 200, 'min_samples_split': 10, 'min_samples_leaf': 1, 'max_features': 'sqrt', 'max_depth': 40, 'bootstrap': False}\n"
     ]
    }
   ],
   "source": [
    "from sklearn.model_selection import RandomizedSearchCV\n",
    "\n",
    "n_estimators = [int(x) for x in np.linspace(start = 200, stop = 2000, num = 10)]\n",
    "max_features = ['auto', 'sqrt']\n",
    "max_depth = [int(x) for x in np.linspace(10, 110, num = 11)]\n",
    "max_depth.append(None)\n",
    "min_samples_split = [2, 5, 10]\n",
    "min_samples_leaf = [1, 2, 4]\n",
    "bootstrap = [True, False]\n",
    "\n",
    "random_grid = {'n_estimators': n_estimators,\n",
    "               'max_features': max_features,\n",
    "               'max_depth': max_depth,\n",
    "               'min_samples_split': min_samples_split,\n",
    "               'min_samples_leaf': min_samples_leaf,\n",
    "               'bootstrap': bootstrap}\n",
    "\n",
    "\n",
    "rf = RandomForestClassifier()\n",
    "\n",
    "rf_random = RandomizedSearchCV(rf, param_distributions = random_grid, n_iter = 300, cv = 3, verbose=2, random_state=42, n_jobs = -1)\n",
    "\n",
    "# Fit the random search model\n",
    "rf_random.fit(X_train, y_train)\n",
    "\n",
    "# best model\n",
    "print(rf_random.best_params_)"
   ]
  },
  {
   "cell_type": "code",
   "execution_count": 52,
   "metadata": {},
   "outputs": [
    {
     "name": "stdout",
     "output_type": "stream",
     "text": [
      "Random Forest Accuracy: \n",
      " 0.9125728559533722\n",
      "Random Forest: \n",
      "               precision    recall  f1-score   support\n",
      "\n",
      "     Hip-Hop       0.82      0.72      0.76       237\n",
      "        Rock       0.93      0.96      0.95       964\n",
      "\n",
      "    accuracy                           0.91      1201\n",
      "   macro avg       0.87      0.84      0.86      1201\n",
      "weighted avg       0.91      0.91      0.91      1201\n",
      "\n"
     ]
    },
    {
     "data": {
      "text/plain": [
       "array([[170,  67],\n",
       "       [ 38, 926]])"
      ]
     },
     "execution_count": 52,
     "metadata": {},
     "output_type": "execute_result"
    }
   ],
   "source": [
    "# MODELO COM PIPELINE\n",
    "from sklearn.pipeline import Pipeline\n",
    "from sklearn.preprocessing import OneHotEncoder, StandardScaler, MinMaxScaler\n",
    "from sklearn.compose import ColumnTransformer\n",
    "from sklearn.decomposition import PCA\n",
    "from sklearn.tree import DecisionTreeClassifier\n",
    "from sklearn.impute import SimpleImputer\n",
    "\n",
    "# Criando o Preprocessamento no Pipeline\n",
    "numeric_transformer = Pipeline(steps=[\n",
    "    ('imputer', SimpleImputer(strategy='median')),\n",
    "    ('scaler', StandardScaler())])\n",
    "\n",
    "preprocessor = ColumnTransformer(\n",
    "    transformers=[\n",
    "        ('num', numeric_transformer, X_train.columns)])\n",
    "\n",
    "# Pipeline com random forest\n",
    "from sklearn.ensemble import RandomForestClassifier\n",
    "rf = Pipeline(steps=[('preprocessor', preprocessor),\n",
    "                      ('classifier', RandomForestClassifier(n_estimators= 200,\n",
    "                                                            min_samples_split=10,\n",
    "                                                            min_samples_leaf= 1,\n",
    "                                                            max_features='sqrt',\n",
    "                                                            max_depth= 40,\n",
    "                                                            bootstrap= False))])\n",
    "\n",
    "\n",
    "# Fita o modelo\n",
    "rf.fit(X_train, y_train)\n",
    "\n",
    "# predicoes\n",
    "y_pred = rf.predict(X_test)\n",
    "\n",
    "# Acurácia do modelo\n",
    "from sklearn.metrics import accuracy_score\n",
    "print(\"Random Forest Accuracy: \\n\",accuracy_score(y_test, y_pred))\n",
    "\n",
    "# Classification report\n",
    "from sklearn.metrics import classification_report\n",
    "class_rep_rf = classification_report(y_test, y_pred)\n",
    "\n",
    "print(\"Random Forest: \\n\", class_rep_rf)\n",
    "\n",
    "# Matriz de Confusao\n",
    "from sklearn.metrics import confusion_matrix\n",
    "confusion_matrix(y_test, y_pred)"
   ]
  },
  {
   "cell_type": "markdown",
   "metadata": {},
   "source": [
    "Veja que o modelo não melhorou, e piorou em alguns casos (f1-score)"
   ]
  },
  {
   "cell_type": "markdown",
   "metadata": {},
   "source": [
    "## PIPELINE PARA SELEÇÃO DO MODELO"
   ]
  },
  {
   "cell_type": "markdown",
   "metadata": {},
   "source": [
    "Antes de tentarmos melhorar o balanceamento, vamos só fazer uma brincadeirinha aqui e testar vários modelos com os parâmetros padrão mesmo e ver qual tem melhor resultado. Mera curiosidade."
   ]
  },
  {
   "cell_type": "code",
   "execution_count": 55,
   "metadata": {},
   "outputs": [
    {
     "name": "stdout",
     "output_type": "stream",
     "text": [
      "KNeighborsClassifier(n_neighbors=3)\n",
      "model score: 0.890\n",
      "SVC(C=0.025, probability=True)\n",
      "model score: 0.860\n",
      "SVC()\n",
      "model score: 0.908\n",
      "LogisticRegression()\n",
      "model score: 0.881\n",
      "DecisionTreeClassifier()\n",
      "model score: 0.866\n",
      "RandomForestClassifier()\n",
      "model score: 0.911\n",
      "AdaBoostClassifier()\n",
      "model score: 0.907\n",
      "GradientBoostingClassifier()\n",
      "model score: 0.912\n"
     ]
    },
    {
     "data": {
      "application/javascript": [
       "\n",
       "            setTimeout(function() {\n",
       "                var nbb_cell_id = 55;\n",
       "                var nbb_unformatted_code = \"from sklearn.metrics import accuracy_score, log_loss\\nfrom sklearn.neighbors import KNeighborsClassifier\\nfrom sklearn.svm import SVC, LinearSVC, NuSVC\\nfrom sklearn.tree import DecisionTreeClassifier\\nfrom sklearn.ensemble import RandomForestClassifier, AdaBoostClassifier, GradientBoostingClassifier\\nfrom sklearn.discriminant_analysis import LinearDiscriminantAnalysis\\nfrom sklearn.discriminant_analysis import QuadraticDiscriminantAnalysis\\nfrom sklearn.linear_model import LogisticRegression\\n\\nclassifiers = [\\n    KNeighborsClassifier(3),\\n    SVC(kernel=\\\"rbf\\\", C=0.025, probability=True),\\n    SVC(),\\n    LogisticRegression(),\\n    DecisionTreeClassifier(),\\n    RandomForestClassifier(),\\n    AdaBoostClassifier(),\\n    GradientBoostingClassifier()\\n    ]\\n\\nfor classifier in classifiers:\\n    pipe = Pipeline(steps=[('preprocessor', preprocessor),\\n                      ('classifier', classifier)])\\n    pipe.fit(X_train, y_train)   \\n    print(classifier)\\n    print(\\\"model score: %.3f\\\" % pipe.score(X_test, y_test))\";\n",
       "                var nbb_formatted_code = \"from sklearn.metrics import accuracy_score, log_loss\\nfrom sklearn.neighbors import KNeighborsClassifier\\nfrom sklearn.svm import SVC, LinearSVC, NuSVC\\nfrom sklearn.tree import DecisionTreeClassifier\\nfrom sklearn.ensemble import (\\n    RandomForestClassifier,\\n    AdaBoostClassifier,\\n    GradientBoostingClassifier,\\n)\\nfrom sklearn.discriminant_analysis import LinearDiscriminantAnalysis\\nfrom sklearn.discriminant_analysis import QuadraticDiscriminantAnalysis\\nfrom sklearn.linear_model import LogisticRegression\\n\\nclassifiers = [\\n    KNeighborsClassifier(3),\\n    SVC(kernel=\\\"rbf\\\", C=0.025, probability=True),\\n    SVC(),\\n    LogisticRegression(),\\n    DecisionTreeClassifier(),\\n    RandomForestClassifier(),\\n    AdaBoostClassifier(),\\n    GradientBoostingClassifier(),\\n]\\n\\nfor classifier in classifiers:\\n    pipe = Pipeline(steps=[(\\\"preprocessor\\\", preprocessor), (\\\"classifier\\\", classifier)])\\n    pipe.fit(X_train, y_train)\\n    print(classifier)\\n    print(\\\"model score: %.3f\\\" % pipe.score(X_test, y_test))\";\n",
       "                var nbb_cells = Jupyter.notebook.get_cells();\n",
       "                for (var i = 0; i < nbb_cells.length; ++i) {\n",
       "                    if (nbb_cells[i].input_prompt_number == nbb_cell_id) {\n",
       "                        if (nbb_cells[i].get_text() == nbb_unformatted_code) {\n",
       "                             nbb_cells[i].set_text(nbb_formatted_code);\n",
       "                        }\n",
       "                        break;\n",
       "                    }\n",
       "                }\n",
       "            }, 500);\n",
       "            "
      ],
      "text/plain": [
       "<IPython.core.display.Javascript object>"
      ]
     },
     "metadata": {},
     "output_type": "display_data"
    }
   ],
   "source": [
    "from sklearn.metrics import accuracy_score, log_loss\n",
    "from sklearn.neighbors import KNeighborsClassifier\n",
    "from sklearn.svm import SVC, LinearSVC, NuSVC\n",
    "from sklearn.tree import DecisionTreeClassifier\n",
    "from sklearn.ensemble import (\n",
    "    RandomForestClassifier,\n",
    "    AdaBoostClassifier,\n",
    "    GradientBoostingClassifier,\n",
    ")\n",
    "from sklearn.discriminant_analysis import LinearDiscriminantAnalysis\n",
    "from sklearn.discriminant_analysis import QuadraticDiscriminantAnalysis\n",
    "from sklearn.linear_model import LogisticRegression\n",
    "\n",
    "classifiers = [\n",
    "    KNeighborsClassifier(3),\n",
    "    SVC(kernel=\"rbf\", C=0.025, probability=True),\n",
    "    SVC(),\n",
    "    LogisticRegression(),\n",
    "    DecisionTreeClassifier(),\n",
    "    RandomForestClassifier(),\n",
    "    AdaBoostClassifier(),\n",
    "    GradientBoostingClassifier(),\n",
    "]\n",
    "\n",
    "for classifier in classifiers:\n",
    "    pipe = Pipeline(steps=[(\"preprocessor\", preprocessor), (\"classifier\", classifier)])\n",
    "    pipe.fit(X_train, y_train)\n",
    "    print(classifier)\n",
    "    print(\"model score: %.3f\" % pipe.score(X_test, y_test))"
   ]
  },
  {
   "cell_type": "markdown",
   "metadata": {},
   "source": [
    "Curioso, sem brincar com os hiperparâmetros, a Random Forest empatou com Gradient Boosting.\n",
    "\n",
    "E modelos mais robustos com XGBoost e CatBoost? Será que faz muita diferença?"
   ]
  },
  {
   "cell_type": "code",
   "execution_count": 66,
   "metadata": {},
   "outputs": [
    {
     "name": "stdout",
     "output_type": "stream",
     "text": [
      "Learning rate set to 0.043486\n",
      "0:\ttest: 0.8737088\tbest: 0.8737088 (0)\ttotal: 10ms\tremaining: 10s\n",
      "50:\ttest: 0.9432568\tbest: 0.9432568 (50)\ttotal: 278ms\tremaining: 5.18s\n",
      "100:\ttest: 0.9475112\tbest: 0.9475375 (98)\ttotal: 459ms\tremaining: 4.09s\n",
      "150:\ttest: 0.9500937\tbest: 0.9500937 (150)\ttotal: 659ms\tremaining: 3.7s\n",
      "200:\ttest: 0.9510610\tbest: 0.9512798 (186)\ttotal: 838ms\tremaining: 3.33s\n",
      "250:\ttest: 0.9521246\tbest: 0.9521246 (250)\ttotal: 1.25s\tremaining: 3.72s\n",
      "300:\ttest: 0.9529518\tbest: 0.9533414 (283)\ttotal: 1.43s\tremaining: 3.33s\n",
      "350:\ttest: 0.9533414\tbest: 0.9534333 (347)\ttotal: 1.68s\tremaining: 3.1s\n",
      "400:\ttest: 0.9537091\tbest: 0.9538404 (387)\ttotal: 1.86s\tremaining: 2.77s\n",
      "450:\ttest: 0.9537616\tbest: 0.9538447 (409)\ttotal: 2.05s\tremaining: 2.5s\n",
      "500:\ttest: 0.9539804\tbest: 0.9541161 (493)\ttotal: 2.23s\tremaining: 2.22s\n",
      "550:\ttest: 0.9540242\tbest: 0.9542299 (534)\ttotal: 2.48s\tremaining: 2.02s\n",
      "600:\ttest: 0.9538447\tbest: 0.9542343 (563)\ttotal: 2.66s\tremaining: 1.77s\n",
      "650:\ttest: 0.9532976\tbest: 0.9542343 (563)\ttotal: 2.86s\tremaining: 1.53s\n",
      "700:\ttest: 0.9528731\tbest: 0.9542343 (563)\ttotal: 3.03s\tremaining: 1.29s\n",
      "750:\ttest: 0.9530963\tbest: 0.9542343 (563)\ttotal: 3.23s\tremaining: 1.07s\n",
      "800:\ttest: 0.9532101\tbest: 0.9542343 (563)\ttotal: 3.42s\tremaining: 849ms\n",
      "850:\ttest: 0.9531225\tbest: 0.9542343 (563)\ttotal: 3.64s\tremaining: 637ms\n",
      "900:\ttest: 0.9529869\tbest: 0.9542343 (563)\ttotal: 3.81s\tremaining: 419ms\n",
      "950:\ttest: 0.9532363\tbest: 0.9542343 (563)\ttotal: 4.01s\tremaining: 207ms\n",
      "999:\ttest: 0.9530481\tbest: 0.9542343 (563)\ttotal: 4.22s\tremaining: 0us\n",
      "\n",
      "bestTest = 0.954234291\n",
      "bestIteration = 563\n",
      "\n",
      "Shrink model to first 564 iterations.\n"
     ]
    },
    {
     "data": {
      "text/plain": [
       "<catboost.core.CatBoostClassifier at 0x7fd3801d8850>"
      ]
     },
     "execution_count": 66,
     "metadata": {},
     "output_type": "execute_result"
    },
    {
     "data": {
      "application/javascript": [
       "\n",
       "            setTimeout(function() {\n",
       "                var nbb_cell_id = 66;\n",
       "                var nbb_unformatted_code = \"from catboost import CatBoostClassifier, Pool, cv\\n\\nmodel_cb = CatBoostClassifier(\\n    loss_function=\\\"Logloss\\\",\\n    eval_metric=\\\"AUC\\\",\\n    #learning_rate=0.12655172413793103,\\n    #iterations=550,\\n    #border_count=150,\\n)\\n\\nmodel_cb.fit(X_train, y_train, eval_set=(X_test, y_test), verbose=50)\";\n",
       "                var nbb_formatted_code = \"from catboost import CatBoostClassifier, Pool, cv\\n\\nmodel_cb = CatBoostClassifier(\\n    loss_function=\\\"Logloss\\\",\\n    eval_metric=\\\"AUC\\\",\\n    # learning_rate=0.12655172413793103,\\n    # iterations=550,\\n    # border_count=150,\\n)\\n\\nmodel_cb.fit(X_train, y_train, eval_set=(X_test, y_test), verbose=50)\";\n",
       "                var nbb_cells = Jupyter.notebook.get_cells();\n",
       "                for (var i = 0; i < nbb_cells.length; ++i) {\n",
       "                    if (nbb_cells[i].input_prompt_number == nbb_cell_id) {\n",
       "                        if (nbb_cells[i].get_text() == nbb_unformatted_code) {\n",
       "                             nbb_cells[i].set_text(nbb_formatted_code);\n",
       "                        }\n",
       "                        break;\n",
       "                    }\n",
       "                }\n",
       "            }, 500);\n",
       "            "
      ],
      "text/plain": [
       "<IPython.core.display.Javascript object>"
      ]
     },
     "metadata": {},
     "output_type": "display_data"
    }
   ],
   "source": [
    "from catboost import CatBoostClassifier, Pool, cv\n",
    "\n",
    "model_cb = CatBoostClassifier(\n",
    "    loss_function=\"Logloss\",\n",
    "    eval_metric=\"AUC\",\n",
    "    # learning_rate=0.12655172413793103,\n",
    "    # iterations=550,\n",
    "    # border_count=150,\n",
    ")\n",
    "\n",
    "model_cb.fit(X_train, y_train, eval_set=(X_test, y_test), verbose=50)"
   ]
  },
  {
   "cell_type": "code",
   "execution_count": 67,
   "metadata": {},
   "outputs": [
    {
     "name": "stdout",
     "output_type": "stream",
     "text": [
      "              precision    recall  f1-score   support\n",
      "\n",
      "     Hip-Hop       0.83      0.74      0.78       237\n",
      "        Rock       0.94      0.96      0.95       964\n",
      "\n",
      "    accuracy                           0.92      1201\n",
      "   macro avg       0.88      0.85      0.87      1201\n",
      "weighted avg       0.92      0.92      0.92      1201\n",
      "\n",
      "Confusion Matrix : \n",
      "[[176  61]\n",
      " [ 37 927]]\n"
     ]
    },
    {
     "data": {
      "application/javascript": [
       "\n",
       "            setTimeout(function() {\n",
       "                var nbb_cell_id = 67;\n",
       "                var nbb_unformatted_code = \"y_pred = model_cb.predict(X_test)\\nprint(classification_report(y_test, y_pred))\\nprint(\\\"Confusion Matrix : \\\\n\\\" + str(confusion_matrix(y_test, y_pred)))\";\n",
       "                var nbb_formatted_code = \"y_pred = model_cb.predict(X_test)\\nprint(classification_report(y_test, y_pred))\\nprint(\\\"Confusion Matrix : \\\\n\\\" + str(confusion_matrix(y_test, y_pred)))\";\n",
       "                var nbb_cells = Jupyter.notebook.get_cells();\n",
       "                for (var i = 0; i < nbb_cells.length; ++i) {\n",
       "                    if (nbb_cells[i].input_prompt_number == nbb_cell_id) {\n",
       "                        if (nbb_cells[i].get_text() == nbb_unformatted_code) {\n",
       "                             nbb_cells[i].set_text(nbb_formatted_code);\n",
       "                        }\n",
       "                        break;\n",
       "                    }\n",
       "                }\n",
       "            }, 500);\n",
       "            "
      ],
      "text/plain": [
       "<IPython.core.display.Javascript object>"
      ]
     },
     "metadata": {},
     "output_type": "display_data"
    }
   ],
   "source": [
    "y_pred = model_cb.predict(X_test)\n",
    "print(classification_report(y_test, y_pred))\n",
    "print(\"Confusion Matrix : \\n\" + str(confusion_matrix(y_test, y_pred)))a"
   ]
  },
  {
   "cell_type": "code",
   "execution_count": 68,
   "metadata": {},
   "outputs": [
    {
     "data": {
      "text/plain": [
       "0.9184013322231473"
      ]
     },
     "execution_count": 68,
     "metadata": {},
     "output_type": "execute_result"
    },
    {
     "data": {
      "application/javascript": [
       "\n",
       "            setTimeout(function() {\n",
       "                var nbb_cell_id = 68;\n",
       "                var nbb_unformatted_code = \"cm = confusion_matrix(y_test, y_pred)\\nsensitivity = cm[1, 1] / (cm[1, 1] + cm[1, 0])\\nspecificity = cm[0, 0] / (cm[0, 0] + cm[0, 1])\\naccuracy = (cm[0, 0] + cm[1, 1]) / len(y_test)\\n\\naccuracy\";\n",
       "                var nbb_formatted_code = \"cm = confusion_matrix(y_test, y_pred)\\nsensitivity = cm[1, 1] / (cm[1, 1] + cm[1, 0])\\nspecificity = cm[0, 0] / (cm[0, 0] + cm[0, 1])\\naccuracy = (cm[0, 0] + cm[1, 1]) / len(y_test)\\n\\naccuracy\";\n",
       "                var nbb_cells = Jupyter.notebook.get_cells();\n",
       "                for (var i = 0; i < nbb_cells.length; ++i) {\n",
       "                    if (nbb_cells[i].input_prompt_number == nbb_cell_id) {\n",
       "                        if (nbb_cells[i].get_text() == nbb_unformatted_code) {\n",
       "                             nbb_cells[i].set_text(nbb_formatted_code);\n",
       "                        }\n",
       "                        break;\n",
       "                    }\n",
       "                }\n",
       "            }, 500);\n",
       "            "
      ],
      "text/plain": [
       "<IPython.core.display.Javascript object>"
      ]
     },
     "metadata": {},
     "output_type": "display_data"
    }
   ],
   "source": [
    "cm = confusion_matrix(y_test, y_pred)\n",
    "sensitivity = cm[1, 1] / (cm[1, 1] + cm[1, 0])\n",
    "specificity = cm[0, 0] / (cm[0, 0] + cm[0, 1])\n",
    "accuracy = (cm[0, 0] + cm[1, 1]) / len(y_test)\n",
    "\n",
    "accuracy"
   ]
  },
  {
   "cell_type": "code",
   "execution_count": 69,
   "metadata": {},
   "outputs": [
    {
     "data": {
      "image/png": "[encoded data removed]",
      "text/plain": [
       "<Figure size 640x376 with 2 Axes>"
      ]
     },
     "metadata": {},
     "output_type": "display_data"
    },
    {
     "data": {
      "text/plain": [
       "<Figure size 800x400 with 0 Axes>"
      ]
     },
     "metadata": {},
     "output_type": "display_data"
    },
    {
     "data": {
      "application/javascript": [
       "\n",
       "            setTimeout(function() {\n",
       "                var nbb_cell_id = 69;\n",
       "                var nbb_unformatted_code = \"# SHAP VALUES\\nimport shap\\n\\nshap_values = model_cb.get_feature_importance(\\n    Pool(X_train, y_train,), type=\\\"ShapValues\\\",\\n)\\n\\nexpected_value = shap_values[0, -1]\\nshap_values = shap_values[:, :-1]\\n\\nshap.summary_plot(shap_values, X_train)\\n\\nplt.savefig(\\\"shap_values\\\")\";\n",
       "                var nbb_formatted_code = \"# SHAP VALUES\\nimport shap\\n\\nshap_values = model_cb.get_feature_importance(\\n    Pool(X_train, y_train,), type=\\\"ShapValues\\\",\\n)\\n\\nexpected_value = shap_values[0, -1]\\nshap_values = shap_values[:, :-1]\\n\\nshap.summary_plot(shap_values, X_train)\\n\\nplt.savefig(\\\"shap_values\\\")\";\n",
       "                var nbb_cells = Jupyter.notebook.get_cells();\n",
       "                for (var i = 0; i < nbb_cells.length; ++i) {\n",
       "                    if (nbb_cells[i].input_prompt_number == nbb_cell_id) {\n",
       "                        if (nbb_cells[i].get_text() == nbb_unformatted_code) {\n",
       "                             nbb_cells[i].set_text(nbb_formatted_code);\n",
       "                        }\n",
       "                        break;\n",
       "                    }\n",
       "                }\n",
       "            }, 500);\n",
       "            "
      ],
      "text/plain": [
       "<IPython.core.display.Javascript object>"
      ]
     },
     "metadata": {},
     "output_type": "display_data"
    }
   ],
   "source": [
    "# SHAP VALUES\n",
    "import shap\n",
    "\n",
    "shap_values = model_cb.get_feature_importance(\n",
    "    Pool(X_train, y_train,), type=\"ShapValues\",\n",
    ")\n",
    "\n",
    "expected_value = shap_values[0, -1]\n",
    "shap_values = shap_values[:, :-1]\n",
    "\n",
    "shap.summary_plot(shap_values, X_train)\n",
    "\n",
    "plt.savefig(\"shap_values\")"
   ]
  },
  {
   "cell_type": "markdown",
   "metadata": {},
   "source": [
    "Beleza, essa brincadeira não levou a lugar algum. Vamos voltar ao jogo sério e usar Class Weight!"
   ]
  },
  {
   "cell_type": "markdown",
   "metadata": {},
   "source": [
    "## Class Weight"
   ]
  },
  {
   "cell_type": "markdown",
   "metadata": {},
   "source": [
    "Enfim, vamos finalmente tentar melhorar pra valer esse modelo. Há um problema de balanceamento. Temos algumas alternativas, mas vamos apostar aqui no class_weight. Poderíamos tentar montar datasets com amostras (filtrar o do rock para ficar igual hip-hop) ou usar técnicas de oversampling/undersampling. Porém, <i>class weight</i> é uma boa aposta. Deve dar bom!"
   ]
  },
  {
   "cell_type": "code",
   "execution_count": 106,
   "metadata": {},
   "outputs": [
    {
     "data": {
      "application/javascript": [
       "\n",
       "            setTimeout(function() {\n",
       "                var nbb_cell_id = 106;\n",
       "                var nbb_unformatted_code = \"from sklearn.metrics import precision_recall_fscore_support as score\\n\\n\\ndef trying_class_weight(class_weight):\\n    \\\"\\\"\\\" FUN\\u00c7\\u00c3O PARA TESTAR O RESULTADO DE DIFERENTES PESOS PARA AS CLASSES \\\"\\\"\\\"\\n    # Criando o Preprocessamento no Pipeline\\n    numeric_transformer = Pipeline(\\n        steps=[\\n            (\\\"imputer\\\", SimpleImputer(strategy=\\\"median\\\")),\\n            (\\\"scaler\\\", StandardScaler()),\\n        ]\\n    )\\n\\n    preprocessor = ColumnTransformer(\\n        transformers=[(\\\"num\\\", numeric_transformer, X_train.columns)]\\n    )\\n\\n    # Pipeline com random forest\\n    rf = Pipeline(\\n        steps=[\\n            (\\\"preprocessor\\\", preprocessor),\\n            (\\\"classifier\\\", RandomForestClassifier(class_weight=class_weight)),\\n        ]\\n    )\\n\\n    # Fita o modelo\\n    rf.fit(X_train, y_train)\\n\\n    # predicoes\\n    y_pred = rf.predict(X_test)\\n\\n    # Matriz de Confusao\\n    cm = confusion_matrix(y_test, y_pred)\\n    accuracy = (cm[0, 0] + cm[1, 1]) / len(y_test)\\n\\n    precision, recall, fscore, support = score(y_test, y_pred, average=\\\"macro\\\")\\n\\n    return accuracy, fscore\";\n",
       "                var nbb_formatted_code = \"from sklearn.metrics import precision_recall_fscore_support as score\\n\\n\\ndef trying_class_weight(class_weight):\\n    \\\"\\\"\\\" FUN\\u00c7\\u00c3O PARA TESTAR O RESULTADO DE DIFERENTES PESOS PARA AS CLASSES \\\"\\\"\\\"\\n    # Criando o Preprocessamento no Pipeline\\n    numeric_transformer = Pipeline(\\n        steps=[\\n            (\\\"imputer\\\", SimpleImputer(strategy=\\\"median\\\")),\\n            (\\\"scaler\\\", StandardScaler()),\\n        ]\\n    )\\n\\n    preprocessor = ColumnTransformer(\\n        transformers=[(\\\"num\\\", numeric_transformer, X_train.columns)]\\n    )\\n\\n    # Pipeline com random forest\\n    rf = Pipeline(\\n        steps=[\\n            (\\\"preprocessor\\\", preprocessor),\\n            (\\\"classifier\\\", RandomForestClassifier(class_weight=class_weight)),\\n        ]\\n    )\\n\\n    # Fita o modelo\\n    rf.fit(X_train, y_train)\\n\\n    # predicoes\\n    y_pred = rf.predict(X_test)\\n\\n    # Matriz de Confusao\\n    cm = confusion_matrix(y_test, y_pred)\\n    accuracy = (cm[0, 0] + cm[1, 1]) / len(y_test)\\n\\n    precision, recall, fscore, support = score(y_test, y_pred, average=\\\"macro\\\")\\n\\n    return accuracy, fscore\";\n",
       "                var nbb_cells = Jupyter.notebook.get_cells();\n",
       "                for (var i = 0; i < nbb_cells.length; ++i) {\n",
       "                    if (nbb_cells[i].input_prompt_number == nbb_cell_id) {\n",
       "                        if (nbb_cells[i].get_text() == nbb_unformatted_code) {\n",
       "                             nbb_cells[i].set_text(nbb_formatted_code);\n",
       "                        }\n",
       "                        break;\n",
       "                    }\n",
       "                }\n",
       "            }, 500);\n",
       "            "
      ],
      "text/plain": [
       "<IPython.core.display.Javascript object>"
      ]
     },
     "metadata": {},
     "output_type": "display_data"
    }
   ],
   "source": [
    "from sklearn.metrics import precision_recall_fscore_support as score\n",
    "\n",
    "\n",
    "def trying_class_weight(class_weight):\n",
    "    \"\"\" FUNÇÃO PARA TESTAR O RESULTADO DE DIFERENTES PESOS PARA AS CLASSES \"\"\"\n",
    "    # Criando o Preprocessamento no Pipeline\n",
    "    numeric_transformer = Pipeline(\n",
    "        steps=[\n",
    "            (\"imputer\", SimpleImputer(strategy=\"median\")),\n",
    "            (\"scaler\", StandardScaler()),\n",
    "        ]\n",
    "    )\n",
    "\n",
    "    preprocessor = ColumnTransformer(\n",
    "        transformers=[(\"num\", numeric_transformer, X_train.columns)]\n",
    "    )\n",
    "\n",
    "    # Pipeline com random forest\n",
    "    rf = Pipeline(\n",
    "        steps=[\n",
    "            (\"preprocessor\", preprocessor),\n",
    "            (\"classifier\", RandomForestClassifier(class_weight=class_weight)),\n",
    "        ]\n",
    "    )\n",
    "\n",
    "    # Fita o modelo\n",
    "    rf.fit(X_train, y_train)\n",
    "\n",
    "    # predicoes\n",
    "    y_pred = rf.predict(X_test)\n",
    "\n",
    "    # Matriz de Confusao\n",
    "    cm = confusion_matrix(y_test, y_pred)\n",
    "    accuracy = (cm[0, 0] + cm[1, 1]) / len(y_test)\n",
    "\n",
    "    precision, recall, fscore, support = score(y_test, y_pred, average=\"macro\")\n",
    "\n",
    "    return accuracy, fscore"
   ]
  },
  {
   "cell_type": "code",
   "execution_count": 107,
   "metadata": {},
   "outputs": [
    {
     "name": "stdout",
     "output_type": "stream",
     "text": [
      "0.9150707743547044\n",
      "0.8575942303936612\n"
     ]
    },
    {
     "data": {
      "application/javascript": [
       "\n",
       "            setTimeout(function() {\n",
       "                var nbb_cell_id = 107;\n",
       "                var nbb_unformatted_code = \"accuracy, fscore = trying_class_weight(\\\"balanced\\\")\\nprint(accuracy)\\nprint(fscore)\";\n",
       "                var nbb_formatted_code = \"accuracy, fscore = trying_class_weight(\\\"balanced\\\")\\nprint(accuracy)\\nprint(fscore)\";\n",
       "                var nbb_cells = Jupyter.notebook.get_cells();\n",
       "                for (var i = 0; i < nbb_cells.length; ++i) {\n",
       "                    if (nbb_cells[i].input_prompt_number == nbb_cell_id) {\n",
       "                        if (nbb_cells[i].get_text() == nbb_unformatted_code) {\n",
       "                             nbb_cells[i].set_text(nbb_formatted_code);\n",
       "                        }\n",
       "                        break;\n",
       "                    }\n",
       "                }\n",
       "            }, 500);\n",
       "            "
      ],
      "text/plain": [
       "<IPython.core.display.Javascript object>"
      ]
     },
     "metadata": {},
     "output_type": "display_data"
    }
   ],
   "source": [
    "accuracy, fscore = trying_class_weight(\"balanced\")\n",
    "print(accuracy)\n",
    "print(fscore)"
   ]
  },
  {
   "cell_type": "code",
   "execution_count": 108,
   "metadata": {},
   "outputs": [
    {
     "name": "stdout",
     "output_type": "stream",
     "text": [
      "0.9084096586178185\n",
      "0.8485630049428228\n"
     ]
    },
    {
     "data": {
      "application/javascript": [
       "\n",
       "            setTimeout(function() {\n",
       "                var nbb_cell_id = 108;\n",
       "                var nbb_unformatted_code = \"accuracy, fscore = trying_class_weight(None)\\nprint(accuracy)\\nprint(fscore)\";\n",
       "                var nbb_formatted_code = \"accuracy, fscore = trying_class_weight(None)\\nprint(accuracy)\\nprint(fscore)\";\n",
       "                var nbb_cells = Jupyter.notebook.get_cells();\n",
       "                for (var i = 0; i < nbb_cells.length; ++i) {\n",
       "                    if (nbb_cells[i].input_prompt_number == nbb_cell_id) {\n",
       "                        if (nbb_cells[i].get_text() == nbb_unformatted_code) {\n",
       "                             nbb_cells[i].set_text(nbb_formatted_code);\n",
       "                        }\n",
       "                        break;\n",
       "                    }\n",
       "                }\n",
       "            }, 500);\n",
       "            "
      ],
      "text/plain": [
       "<IPython.core.display.Javascript object>"
      ]
     },
     "metadata": {},
     "output_type": "display_data"
    }
   ],
   "source": [
    "accuracy, fscore = trying_class_weight(None)\n",
    "print(accuracy)\n",
    "print(fscore)"
   ]
  },
  {
   "cell_type": "code",
   "execution_count": 109,
   "metadata": {},
   "outputs": [
    {
     "name": "stdout",
     "output_type": "stream",
     "text": [
      "0.9134054954204829\n",
      "0.8601800026866073\n"
     ]
    },
    {
     "data": {
      "application/javascript": [
       "\n",
       "            setTimeout(function() {\n",
       "                var nbb_cell_id = 109;\n",
       "                var nbb_unformatted_code = \"accuracy, fscore = trying_class_weight({\\\"Hip-Hop\\\": 1, \\\"Rock\\\": 4})\\nprint(accuracy)\\nprint(fscore)\";\n",
       "                var nbb_formatted_code = \"accuracy, fscore = trying_class_weight({\\\"Hip-Hop\\\": 1, \\\"Rock\\\": 4})\\nprint(accuracy)\\nprint(fscore)\";\n",
       "                var nbb_cells = Jupyter.notebook.get_cells();\n",
       "                for (var i = 0; i < nbb_cells.length; ++i) {\n",
       "                    if (nbb_cells[i].input_prompt_number == nbb_cell_id) {\n",
       "                        if (nbb_cells[i].get_text() == nbb_unformatted_code) {\n",
       "                             nbb_cells[i].set_text(nbb_formatted_code);\n",
       "                        }\n",
       "                        break;\n",
       "                    }\n",
       "                }\n",
       "            }, 500);\n",
       "            "
      ],
      "text/plain": [
       "<IPython.core.display.Javascript object>"
      ]
     },
     "metadata": {},
     "output_type": "display_data"
    }
   ],
   "source": [
    "accuracy, fscore = trying_class_weight({\"Hip-Hop\": 1, \"Rock\": 4})\n",
    "print(accuracy)\n",
    "print(fscore)"
   ]
  },
  {
   "cell_type": "markdown",
   "metadata": {},
   "source": [
    "Note que já conseguimos ir de 91.00 para 91.26. Além de melhorar o f1-score.<br>\n",
    "Podemos tentar ainda:\n",
    "- Aprimorar esse class weight;\n",
    "- Tunar os hiperparâmetros;\n",
    "- Tentar um xgboost (que tem levado vários campeonatos por aí).\n"
   ]
  },
  {
   "cell_type": "code",
   "execution_count": 132,
   "metadata": {},
   "outputs": [
    {
     "name": "stderr",
     "output_type": "stream",
     "text": [
      "Precision and F-score are ill-defined and being set to 0.0 in labels with no predicted samples. Use `zero_division` parameter to control this behavior.\n",
      "Precision and F-score are ill-defined and being set to 0.0 in labels with no predicted samples. Use `zero_division` parameter to control this behavior.\n"
     ]
    },
    {
     "data": {
      "application/javascript": [
       "\n",
       "            setTimeout(function() {\n",
       "                var nbb_cell_id = 132;\n",
       "                var nbb_unformatted_code = \"# Primeiro, melhorando o class weight\\n\\nweights = []\\naccuracies = []\\nf1scores = []\\nfor i in np.linspace(0.0, 1, 500):\\n    accuracy, fscore = trying_class_weight({\\\"Hip-Hop\\\": i, \\\"Rock\\\": 1 - i})\\n    weights.append(i)\\n    accuracies.append(accuracy)\\n    f1scores.append(fscore)\";\n",
       "                var nbb_formatted_code = \"# Primeiro, melhorando o class weight\\n\\nweights = []\\naccuracies = []\\nf1scores = []\\nfor i in np.linspace(0.0, 1, 500):\\n    accuracy, fscore = trying_class_weight({\\\"Hip-Hop\\\": i, \\\"Rock\\\": 1 - i})\\n    weights.append(i)\\n    accuracies.append(accuracy)\\n    f1scores.append(fscore)\";\n",
       "                var nbb_cells = Jupyter.notebook.get_cells();\n",
       "                for (var i = 0; i < nbb_cells.length; ++i) {\n",
       "                    if (nbb_cells[i].input_prompt_number == nbb_cell_id) {\n",
       "                        if (nbb_cells[i].get_text() == nbb_unformatted_code) {\n",
       "                             nbb_cells[i].set_text(nbb_formatted_code);\n",
       "                        }\n",
       "                        break;\n",
       "                    }\n",
       "                }\n",
       "            }, 500);\n",
       "            "
      ],
      "text/plain": [
       "<IPython.core.display.Javascript object>"
      ]
     },
     "metadata": {},
     "output_type": "display_data"
    }
   ],
   "source": [
    "# Primeiro, melhorando o class weight\n",
    "# TEM ALGUM ERRO AQUI. CORRIGIR DEPOIS\n",
    "weights = []\n",
    "accuracies = []\n",
    "f1scores = []\n",
    "for i in np.linspace(0.0, 1, 500):\n",
    "    accuracy, fscore = trying_class_weight({\"Hip-Hop\": i, \"Rock\": 1 - i})\n",
    "    weights.append(i)\n",
    "    accuracies.append(accuracy)\n",
    "    f1scores.append(fscore)"
   ]
  },
  {
   "cell_type": "code",
   "execution_count": 133,
   "metadata": {},
   "outputs": [
    {
     "data": {
      "text/plain": [
       "0.3787575150300601"
      ]
     },
     "execution_count": 133,
     "metadata": {},
     "output_type": "execute_result"
    },
    {
     "data": {
      "application/javascript": [
       "\n",
       "            setTimeout(function() {\n",
       "                var nbb_cell_id = 133;\n",
       "                var nbb_unformatted_code = \"# Pega o peso de onde teve maior acur\\u00e1cia\\nweights[accuracies.index(max(accuracies))]\";\n",
       "                var nbb_formatted_code = \"# Pega o peso de onde teve maior acur\\u00e1cia\\nweights[accuracies.index(max(accuracies))]\";\n",
       "                var nbb_cells = Jupyter.notebook.get_cells();\n",
       "                for (var i = 0; i < nbb_cells.length; ++i) {\n",
       "                    if (nbb_cells[i].input_prompt_number == nbb_cell_id) {\n",
       "                        if (nbb_cells[i].get_text() == nbb_unformatted_code) {\n",
       "                             nbb_cells[i].set_text(nbb_formatted_code);\n",
       "                        }\n",
       "                        break;\n",
       "                    }\n",
       "                }\n",
       "            }, 500);\n",
       "            "
      ],
      "text/plain": [
       "<IPython.core.display.Javascript object>"
      ]
     },
     "metadata": {},
     "output_type": "display_data"
    }
   ],
   "source": [
    "# Pega o peso de onde teve maior acurácia\n",
    "weights[accuracies.index(max(accuracies))]"
   ]
  },
  {
   "cell_type": "code",
   "execution_count": 128,
   "metadata": {},
   "outputs": [
    {
     "data": {
      "text/plain": [
       "5.482084690553747"
      ]
     },
     "execution_count": 128,
     "metadata": {},
     "output_type": "execute_result"
    },
    {
     "data": {
      "application/javascript": [
       "\n",
       "            setTimeout(function() {\n",
       "                var nbb_cell_id = 128;\n",
       "                var nbb_unformatted_code = \"0.8457286432160804/0.15427135678391957\";\n",
       "                var nbb_formatted_code = \"0.8457286432160804 / 0.15427135678391957\";\n",
       "                var nbb_cells = Jupyter.notebook.get_cells();\n",
       "                for (var i = 0; i < nbb_cells.length; ++i) {\n",
       "                    if (nbb_cells[i].input_prompt_number == nbb_cell_id) {\n",
       "                        if (nbb_cells[i].get_text() == nbb_unformatted_code) {\n",
       "                             nbb_cells[i].set_text(nbb_formatted_code);\n",
       "                        }\n",
       "                        break;\n",
       "                    }\n",
       "                }\n",
       "            }, 500);\n",
       "            "
      ],
      "text/plain": [
       "<IPython.core.display.Javascript object>"
      ]
     },
     "metadata": {},
     "output_type": "display_data"
    }
   ],
   "source": [
    "0.8457286432160804 / 0.15427135678391957"
   ]
  },
  {
   "cell_type": "code",
   "execution_count": 157,
   "metadata": {},
   "outputs": [
    {
     "name": "stdout",
     "output_type": "stream",
     "text": [
      "Random Forest Accuracy: \n",
      " 0.9150707743547044\n",
      "Random Forest: \n",
      "               precision    recall  f1-score   support\n",
      "\n",
      "     Hip-Hop       0.84      0.70      0.77       237\n",
      "        Rock       0.93      0.97      0.95       964\n",
      "\n",
      "    accuracy                           0.92      1201\n",
      "   macro avg       0.88      0.84      0.86      1201\n",
      "weighted avg       0.91      0.92      0.91      1201\n",
      "\n"
     ]
    },
    {
     "data": {
      "text/plain": [
       "array([[167,  70],\n",
       "       [ 32, 932]])"
      ]
     },
     "execution_count": 157,
     "metadata": {},
     "output_type": "execute_result"
    },
    {
     "data": {
      "application/javascript": [
       "\n",
       "            setTimeout(function() {\n",
       "                var nbb_cell_id = 157;\n",
       "                var nbb_unformatted_code = \"# BELEZA, VAMOS RODAR O MODELO COM O NOVO PESO (APESAR DO LOOP JA TER FEITO PARTE DISSO)\\nnumeric_transformer = Pipeline(\\n    steps=[(\\\"imputer\\\", SimpleImputer(strategy=\\\"median\\\")), (\\\"scaler\\\", StandardScaler())]\\n)\\n\\npreprocessor = ColumnTransformer(\\n    transformers=[(\\\"num\\\", numeric_transformer, X_train.columns)]\\n)\\n\\n# Pipeline com random forest\\nrf = Pipeline(\\n    steps=[\\n        (\\\"preprocessor\\\", preprocessor),\\n        (\\n            \\\"classifier\\\",\\n            RandomForestClassifier(\\n                class_weight={\\n                    \\\"Hip-Hop\\\": 0.8457286432160804,\\n                    \\\"Rock\\\": 0.15427135678391957,\\n                }\\n            ),\\n        ),\\n    ]\\n)\\n\\n\\n# Fita o modelo\\nrf.fit(X_train, y_train)\\n\\n# predicoes\\ny_pred = rf.predict(X_test)\\n\\n# Acur\\u00e1cia do modelo\\nprint(\\\"Random Forest Accuracy: \\\\n\\\", accuracy_score(y_test, y_pred))\\n\\n# Classification report\\nclass_rep_rf = classification_report(y_test, y_pred)\\nprint(\\\"Random Forest: \\\\n\\\", class_rep_rf)\\n\\n# Matriz de Confusao\\nconfusion_matrix(y_test, y_pred)\";\n",
       "                var nbb_formatted_code = \"# BELEZA, VAMOS RODAR O MODELO COM O NOVO PESO (APESAR DO LOOP JA TER FEITO PARTE DISSO)\\nnumeric_transformer = Pipeline(\\n    steps=[(\\\"imputer\\\", SimpleImputer(strategy=\\\"median\\\")), (\\\"scaler\\\", StandardScaler())]\\n)\\n\\npreprocessor = ColumnTransformer(\\n    transformers=[(\\\"num\\\", numeric_transformer, X_train.columns)]\\n)\\n\\n# Pipeline com random forest\\nrf = Pipeline(\\n    steps=[\\n        (\\\"preprocessor\\\", preprocessor),\\n        (\\n            \\\"classifier\\\",\\n            RandomForestClassifier(\\n                class_weight={\\n                    \\\"Hip-Hop\\\": 0.8457286432160804,\\n                    \\\"Rock\\\": 0.15427135678391957,\\n                }\\n            ),\\n        ),\\n    ]\\n)\\n\\n\\n# Fita o modelo\\nrf.fit(X_train, y_train)\\n\\n# predicoes\\ny_pred = rf.predict(X_test)\\n\\n# Acur\\u00e1cia do modelo\\nprint(\\\"Random Forest Accuracy: \\\\n\\\", accuracy_score(y_test, y_pred))\\n\\n# Classification report\\nclass_rep_rf = classification_report(y_test, y_pred)\\nprint(\\\"Random Forest: \\\\n\\\", class_rep_rf)\\n\\n# Matriz de Confusao\\nconfusion_matrix(y_test, y_pred)\";\n",
       "                var nbb_cells = Jupyter.notebook.get_cells();\n",
       "                for (var i = 0; i < nbb_cells.length; ++i) {\n",
       "                    if (nbb_cells[i].input_prompt_number == nbb_cell_id) {\n",
       "                        if (nbb_cells[i].get_text() == nbb_unformatted_code) {\n",
       "                             nbb_cells[i].set_text(nbb_formatted_code);\n",
       "                        }\n",
       "                        break;\n",
       "                    }\n",
       "                }\n",
       "            }, 500);\n",
       "            "
      ],
      "text/plain": [
       "<IPython.core.display.Javascript object>"
      ]
     },
     "metadata": {},
     "output_type": "display_data"
    }
   ],
   "source": [
    "# BELEZA, VAMOS RODAR O MODELO COM O NOVO PESO (APESAR DO LOOP JA TER FEITO PARTE DISSO)\n",
    "# Parece ter algo de errado, cada hora sai um resultado\n",
    "numeric_transformer = Pipeline(\n",
    "    steps=[(\"imputer\", SimpleImputer(strategy=\"median\")), (\"scaler\", StandardScaler())]\n",
    ")\n",
    "\n",
    "preprocessor = ColumnTransformer(\n",
    "    transformers=[(\"num\", numeric_transformer, X_train.columns)]\n",
    ")\n",
    "\n",
    "# Pipeline com random forest\n",
    "rf = Pipeline(\n",
    "    steps=[\n",
    "        (\"preprocessor\", preprocessor),\n",
    "        (\n",
    "            \"classifier\",\n",
    "            RandomForestClassifier(\n",
    "                class_weight={\n",
    "                    \"Hip-Hop\": 0.8457286432160804,\n",
    "                    \"Rock\": 0.15427135678391957,\n",
    "                }\n",
    "            ),\n",
    "        ),\n",
    "    ]\n",
    ")\n",
    "\n",
    "\n",
    "# Fita o modelo\n",
    "rf.fit(X_train, y_train)\n",
    "\n",
    "# predicoes\n",
    "y_pred = rf.predict(X_test)\n",
    "\n",
    "# Acurácia do modelo\n",
    "print(\"Random Forest Accuracy: \\n\", accuracy_score(y_test, y_pred))\n",
    "\n",
    "# Classification report\n",
    "class_rep_rf = classification_report(y_test, y_pred)\n",
    "print(\"Random Forest: \\n\", class_rep_rf)\n",
    "\n",
    "# Matriz de Confusao\n",
    "confusion_matrix(y_test, y_pred)"
   ]
  },
  {
   "cell_type": "code",
   "execution_count": 158,
   "metadata": {},
   "outputs": [
    {
     "data": {
      "text/html": [
       "<div>\n",
       "<style scoped>\n",
       "    .dataframe tbody tr th:only-of-type {\n",
       "        vertical-align: middle;\n",
       "    }\n",
       "\n",
       "    .dataframe tbody tr th {\n",
       "        vertical-align: top;\n",
       "    }\n",
       "\n",
       "    .dataframe thead th {\n",
       "        text-align: right;\n",
       "    }\n",
       "</style>\n",
       "<table border=\"1\" class=\"dataframe\">\n",
       "  <thead>\n",
       "    <tr style=\"text-align: right;\">\n",
       "      <th></th>\n",
       "      <th>date</th>\n",
       "      <th>threshold</th>\n",
       "      <th>sensitivity</th>\n",
       "      <th>specificity</th>\n",
       "      <th>accuracy</th>\n",
       "    </tr>\n",
       "  </thead>\n",
       "  <tbody>\n",
       "    <tr>\n",
       "      <th>15</th>\n",
       "      <td>2020-12-13 00:16:06.433148</td>\n",
       "      <td>0.85</td>\n",
       "      <td>0.857884</td>\n",
       "      <td>0.907173</td>\n",
       "      <td>0.867610</td>\n",
       "    </tr>\n",
       "    <tr>\n",
       "      <th>14</th>\n",
       "      <td>2020-12-13 00:16:06.433148</td>\n",
       "      <td>0.80</td>\n",
       "      <td>0.887967</td>\n",
       "      <td>0.881857</td>\n",
       "      <td>0.886761</td>\n",
       "    </tr>\n",
       "    <tr>\n",
       "      <th>13</th>\n",
       "      <td>2020-12-13 00:16:06.433148</td>\n",
       "      <td>0.75</td>\n",
       "      <td>0.905602</td>\n",
       "      <td>0.860759</td>\n",
       "      <td>0.896753</td>\n",
       "    </tr>\n",
       "    <tr>\n",
       "      <th>12</th>\n",
       "      <td>2020-12-13 00:16:06.433148</td>\n",
       "      <td>0.70</td>\n",
       "      <td>0.920124</td>\n",
       "      <td>0.822785</td>\n",
       "      <td>0.900916</td>\n",
       "    </tr>\n",
       "    <tr>\n",
       "      <th>11</th>\n",
       "      <td>2020-12-13 00:16:06.433148</td>\n",
       "      <td>0.65</td>\n",
       "      <td>0.936722</td>\n",
       "      <td>0.789030</td>\n",
       "      <td>0.907577</td>\n",
       "    </tr>\n",
       "    <tr>\n",
       "      <th>10</th>\n",
       "      <td>2020-12-13 00:16:06.433148</td>\n",
       "      <td>0.60</td>\n",
       "      <td>0.949170</td>\n",
       "      <td>0.759494</td>\n",
       "      <td>0.911740</td>\n",
       "    </tr>\n",
       "    <tr>\n",
       "      <th>9</th>\n",
       "      <td>2020-12-13 00:16:06.433148</td>\n",
       "      <td>0.55</td>\n",
       "      <td>0.959544</td>\n",
       "      <td>0.725738</td>\n",
       "      <td>0.913405</td>\n",
       "    </tr>\n",
       "    <tr>\n",
       "      <th>8</th>\n",
       "      <td>2020-12-13 00:16:06.433148</td>\n",
       "      <td>0.50</td>\n",
       "      <td>0.966805</td>\n",
       "      <td>0.696203</td>\n",
       "      <td>0.913405</td>\n",
       "    </tr>\n",
       "    <tr>\n",
       "      <th>7</th>\n",
       "      <td>2020-12-13 00:16:06.433148</td>\n",
       "      <td>0.45</td>\n",
       "      <td>0.973029</td>\n",
       "      <td>0.654008</td>\n",
       "      <td>0.910075</td>\n",
       "    </tr>\n",
       "    <tr>\n",
       "      <th>6</th>\n",
       "      <td>2020-12-13 00:16:06.433148</td>\n",
       "      <td>0.40</td>\n",
       "      <td>0.983402</td>\n",
       "      <td>0.611814</td>\n",
       "      <td>0.910075</td>\n",
       "    </tr>\n",
       "    <tr>\n",
       "      <th>5</th>\n",
       "      <td>2020-12-13 00:16:06.433148</td>\n",
       "      <td>0.35</td>\n",
       "      <td>0.984440</td>\n",
       "      <td>0.565401</td>\n",
       "      <td>0.901749</td>\n",
       "    </tr>\n",
       "    <tr>\n",
       "      <th>4</th>\n",
       "      <td>2020-12-13 00:16:06.433148</td>\n",
       "      <td>0.30</td>\n",
       "      <td>0.989627</td>\n",
       "      <td>0.518987</td>\n",
       "      <td>0.896753</td>\n",
       "    </tr>\n",
       "    <tr>\n",
       "      <th>3</th>\n",
       "      <td>2020-12-13 00:16:06.433148</td>\n",
       "      <td>0.25</td>\n",
       "      <td>0.995851</td>\n",
       "      <td>0.443038</td>\n",
       "      <td>0.886761</td>\n",
       "    </tr>\n",
       "    <tr>\n",
       "      <th>2</th>\n",
       "      <td>2020-12-13 00:16:06.433148</td>\n",
       "      <td>0.20</td>\n",
       "      <td>0.996888</td>\n",
       "      <td>0.383966</td>\n",
       "      <td>0.875937</td>\n",
       "    </tr>\n",
       "    <tr>\n",
       "      <th>1</th>\n",
       "      <td>2020-12-13 00:16:06.433148</td>\n",
       "      <td>0.15</td>\n",
       "      <td>0.997925</td>\n",
       "      <td>0.329114</td>\n",
       "      <td>0.865945</td>\n",
       "    </tr>\n",
       "    <tr>\n",
       "      <th>0</th>\n",
       "      <td>2020-12-13 00:16:06.433148</td>\n",
       "      <td>0.10</td>\n",
       "      <td>0.998963</td>\n",
       "      <td>0.202532</td>\n",
       "      <td>0.841799</td>\n",
       "    </tr>\n",
       "  </tbody>\n",
       "</table>\n",
       "</div>"
      ],
      "text/plain": [
       "                         date  threshold  sensitivity  specificity  accuracy\n",
       "15 2020-12-13 00:16:06.433148       0.85     0.857884     0.907173  0.867610\n",
       "14 2020-12-13 00:16:06.433148       0.80     0.887967     0.881857  0.886761\n",
       "13 2020-12-13 00:16:06.433148       0.75     0.905602     0.860759  0.896753\n",
       "12 2020-12-13 00:16:06.433148       0.70     0.920124     0.822785  0.900916\n",
       "11 2020-12-13 00:16:06.433148       0.65     0.936722     0.789030  0.907577\n",
       "10 2020-12-13 00:16:06.433148       0.60     0.949170     0.759494  0.911740\n",
       "9  2020-12-13 00:16:06.433148       0.55     0.959544     0.725738  0.913405\n",
       "8  2020-12-13 00:16:06.433148       0.50     0.966805     0.696203  0.913405\n",
       "7  2020-12-13 00:16:06.433148       0.45     0.973029     0.654008  0.910075\n",
       "6  2020-12-13 00:16:06.433148       0.40     0.983402     0.611814  0.910075\n",
       "5  2020-12-13 00:16:06.433148       0.35     0.984440     0.565401  0.901749\n",
       "4  2020-12-13 00:16:06.433148       0.30     0.989627     0.518987  0.896753\n",
       "3  2020-12-13 00:16:06.433148       0.25     0.995851     0.443038  0.886761\n",
       "2  2020-12-13 00:16:06.433148       0.20     0.996888     0.383966  0.875937\n",
       "1  2020-12-13 00:16:06.433148       0.15     0.997925     0.329114  0.865945\n",
       "0  2020-12-13 00:16:06.433148       0.10     0.998963     0.202532  0.841799"
      ]
     },
     "execution_count": 158,
     "metadata": {},
     "output_type": "execute_result"
    },
    {
     "data": {
      "application/javascript": [
       "\n",
       "            setTimeout(function() {\n",
       "                var nbb_cell_id = 158;\n",
       "                var nbb_unformatted_code = \"# SER\\u00c1 QUE O THRESHOLD PADR\\u00c3O(0.5) \\u00c9 O MELHOR?\\npred = rf.predict_proba(X_test)[:, 1]\\n\\nfrom datetime import datetime\\nfrom datetime import timedelta\\n\\nthresh = 0.10\\ndummy_list = []\\ndate = datetime.today()\\n\\ni = 0\\nwhile thresh <= 0.90:\\n    pred_values = np.where(pred >= thresh, \\\"Rock\\\", \\\"Hip-Hop\\\")\\n    cm = confusion_matrix(y_test, pred_values)\\n    sensitivity = cm[1, 1] / (cm[1, 1] + cm[1, 0])\\n    specificity = cm[0, 0] / (cm[0, 0] + cm[0, 1])\\n    accuracy = (cm[0, 0] + cm[1, 1]) / len(y_test)\\n    dummy_list.append([date, thresh, sensitivity, specificity, accuracy])\\n    thresh += 0.05\\n    i = i + 1\\n\\npd.DataFrame(\\n    dummy_list, columns=[\\\"date\\\", \\\"threshold\\\", \\\"sensitivity\\\", \\\"specificity\\\", \\\"accuracy\\\"]\\n).sort_values(by=\\\"threshold\\\", ascending=False)\";\n",
       "                var nbb_formatted_code = \"# SER\\u00c1 QUE O THRESHOLD PADR\\u00c3O(0.5) \\u00c9 O MELHOR?\\npred = rf.predict_proba(X_test)[:, 1]\\n\\nfrom datetime import datetime\\nfrom datetime import timedelta\\n\\nthresh = 0.10\\ndummy_list = []\\ndate = datetime.today()\\n\\ni = 0\\nwhile thresh <= 0.90:\\n    pred_values = np.where(pred >= thresh, \\\"Rock\\\", \\\"Hip-Hop\\\")\\n    cm = confusion_matrix(y_test, pred_values)\\n    sensitivity = cm[1, 1] / (cm[1, 1] + cm[1, 0])\\n    specificity = cm[0, 0] / (cm[0, 0] + cm[0, 1])\\n    accuracy = (cm[0, 0] + cm[1, 1]) / len(y_test)\\n    dummy_list.append([date, thresh, sensitivity, specificity, accuracy])\\n    thresh += 0.05\\n    i = i + 1\\n\\npd.DataFrame(\\n    dummy_list, columns=[\\\"date\\\", \\\"threshold\\\", \\\"sensitivity\\\", \\\"specificity\\\", \\\"accuracy\\\"]\\n).sort_values(by=\\\"threshold\\\", ascending=False)\";\n",
       "                var nbb_cells = Jupyter.notebook.get_cells();\n",
       "                for (var i = 0; i < nbb_cells.length; ++i) {\n",
       "                    if (nbb_cells[i].input_prompt_number == nbb_cell_id) {\n",
       "                        if (nbb_cells[i].get_text() == nbb_unformatted_code) {\n",
       "                             nbb_cells[i].set_text(nbb_formatted_code);\n",
       "                        }\n",
       "                        break;\n",
       "                    }\n",
       "                }\n",
       "            }, 500);\n",
       "            "
      ],
      "text/plain": [
       "<IPython.core.display.Javascript object>"
      ]
     },
     "metadata": {},
     "output_type": "display_data"
    }
   ],
   "source": [
    "# SERÁ QUE O THRESHOLD PADRÃO(0.5) É O MELHOR?\n",
    "pred = rf.predict_proba(X_test)[:, 1]\n",
    "\n",
    "from datetime import datetime\n",
    "from datetime import timedelta\n",
    "\n",
    "thresh = 0.10\n",
    "dummy_list = []\n",
    "date = datetime.today()\n",
    "\n",
    "i = 0\n",
    "while thresh <= 0.90:\n",
    "    pred_values = np.where(pred >= thresh, \"Rock\", \"Hip-Hop\")\n",
    "    cm = confusion_matrix(y_test, pred_values)\n",
    "    sensitivity = cm[1, 1] / (cm[1, 1] + cm[1, 0])\n",
    "    specificity = cm[0, 0] / (cm[0, 0] + cm[0, 1])\n",
    "    accuracy = (cm[0, 0] + cm[1, 1]) / len(y_test)\n",
    "    dummy_list.append([date, thresh, sensitivity, specificity, accuracy])\n",
    "    thresh += 0.05\n",
    "    i = i + 1\n",
    "\n",
    "pd.DataFrame(\n",
    "    dummy_list, columns=[\"date\", \"threshold\", \"sensitivity\", \"specificity\", \"accuracy\"]\n",
    ").sort_values(by=\"threshold\", ascending=False)"
   ]
  },
  {
   "cell_type": "markdown",
   "metadata": {},
   "source": [
    "## OUTRAS MELHORIAS"
   ]
  },
  {
   "cell_type": "code",
   "execution_count": null,
   "metadata": {},
   "outputs": [],
   "source": [
    "# Tunar hiperparametros\n",
    "# Tentar outros thresholds"
   ]
  }
 ],
 "metadata": {
  "kernelspec": {
   "display_name": "Python 3",
   "language": "python",
   "name": "python3"
  },
  "language_info": {
   "codemirror_mode": {
    "name": "ipython",
    "version": 3
   },
   "file_extension": ".py",
   "mimetype": "text/x-python",
   "name": "python",
   "nbconvert_exporter": "python",
   "pygments_lexer": "ipython3",
   "version": "3.7.6"
  }
 },
 "nbformat": 4,
 "nbformat_minor": 4
}
