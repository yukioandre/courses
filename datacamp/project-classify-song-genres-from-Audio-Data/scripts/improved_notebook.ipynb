{
 "cells": [
  {
   "cell_type": "markdown",
   "metadata": {},
   "source": [
    "# 1. CONTEXTUALIZANDO"
   ]
  },
  {
   "cell_type": "code",
   "execution_count": 1,
   "metadata": {},
   "outputs": [
    {
     "data": {
      "application/javascript": [
       "\n",
       "            setTimeout(function() {\n",
       "                var nbb_cell_id = 1;\n",
       "                var nbb_unformatted_code = \"#### Settings ###########\\nimport seaborn as sns\\n\\nsns.set()\\nimport pandas as pd\\n\\npd.options.display.max_columns = 500\\npd.options.display.max_rows = 500\\nimport matplotlib.pyplot as plt\\n\\nplt.style.use(\\\"classic\\\")\\nplt.rcParams[\\\"figure.figsize\\\"] = [10, 5]\\n%load_ext nb_black\";\n",
       "                var nbb_formatted_code = \"#### Settings ###########\\nimport seaborn as sns\\n\\nsns.set()\\nimport pandas as pd\\n\\npd.options.display.max_columns = 500\\npd.options.display.max_rows = 500\\nimport matplotlib.pyplot as plt\\n\\nplt.style.use(\\\"classic\\\")\\nplt.rcParams[\\\"figure.figsize\\\"] = [10, 5]\\n%load_ext nb_black\";\n",
       "                var nbb_cells = Jupyter.notebook.get_cells();\n",
       "                for (var i = 0; i < nbb_cells.length; ++i) {\n",
       "                    if (nbb_cells[i].input_prompt_number == nbb_cell_id) {\n",
       "                        if (nbb_cells[i].get_text() == nbb_unformatted_code) {\n",
       "                             nbb_cells[i].set_text(nbb_formatted_code);\n",
       "                        }\n",
       "                        break;\n",
       "                    }\n",
       "                }\n",
       "            }, 500);\n",
       "            "
      ],
      "text/plain": [
       "<IPython.core.display.Javascript object>"
      ]
     },
     "metadata": {},
     "output_type": "display_data"
    }
   ],
   "source": [
    "#### Settings ###########\n",
    "import seaborn as sns\n",
    "\n",
    "sns.set()\n",
    "import pandas as pd\n",
    "\n",
    "pd.options.display.max_columns = 500\n",
    "pd.options.display.max_rows = 500\n",
    "import matplotlib.pyplot as plt\n",
    "\n",
    "plt.style.use(\"classic\")\n",
    "plt.rcParams[\"figure.figsize\"] = [10, 5]\n",
    "%load_ext nb_black"
   ]
  },
  {
   "cell_type": "markdown",
   "metadata": {},
   "source": [
    "Há um projeto no Datacamp chamado <b>Classify Song Genres from Audio Data</b>. Nele, construímos um modelo de árvore de decisão, com redução de dimensionalidade via PCA, para classificar estilos musicais. O projeto possui uma falha de Data Leakage e acredito que a estrutura possa ser melhorada com um Pipeline. Este notebook fará essas alterações para explorar um código melhor estruturado e um modelo com melhor acurácia.\n",
    "\n",
    "Primeiro, o projeto rodou uma árvore de decisão e obteve acurácia de 86%. Em seguida, testou-se uma regressão logística, que atingiu 89%. Abaixo, o classification report dos dois modelos testados:\n",
    "<img src='modelo_desbalanceado.png'>\n",
    "\n",
    "Em seguida, construiu-se modelos com os dados balanceados. Nesse caso, a acurácia foi de 77% e 83%. O classification report:\n",
    "<img src='modelo_balanceado.png'>"
   ]
  },
  {
   "cell_type": "markdown",
   "metadata": {},
   "source": [
    "# 2. PRINCIPAL: MODELO UTILIZANDO PIPELINE E RANDOM FOREST"
   ]
  },
  {
   "cell_type": "code",
   "execution_count": 2,
   "metadata": {},
   "outputs": [
    {
     "data": {
      "text/html": [
       "<div>\n",
       "<style scoped>\n",
       "    .dataframe tbody tr th:only-of-type {\n",
       "        vertical-align: middle;\n",
       "    }\n",
       "\n",
       "    .dataframe tbody tr th {\n",
       "        vertical-align: top;\n",
       "    }\n",
       "\n",
       "    .dataframe thead th {\n",
       "        text-align: right;\n",
       "    }\n",
       "</style>\n",
       "<table border=\"1\" class=\"dataframe\">\n",
       "  <thead>\n",
       "    <tr style=\"text-align: right;\">\n",
       "      <th></th>\n",
       "      <th>track_id</th>\n",
       "      <th>acousticness</th>\n",
       "      <th>danceability</th>\n",
       "      <th>energy</th>\n",
       "      <th>instrumentalness</th>\n",
       "      <th>liveness</th>\n",
       "      <th>speechiness</th>\n",
       "      <th>tempo</th>\n",
       "      <th>valence</th>\n",
       "      <th>genre_top</th>\n",
       "    </tr>\n",
       "  </thead>\n",
       "  <tbody>\n",
       "    <tr>\n",
       "      <th>0</th>\n",
       "      <td>2</td>\n",
       "      <td>0.416675</td>\n",
       "      <td>0.675894</td>\n",
       "      <td>0.634476</td>\n",
       "      <td>0.010628</td>\n",
       "      <td>0.177647</td>\n",
       "      <td>0.159310</td>\n",
       "      <td>165.922</td>\n",
       "      <td>0.576661</td>\n",
       "      <td>Hip-Hop</td>\n",
       "    </tr>\n",
       "    <tr>\n",
       "      <th>1</th>\n",
       "      <td>3</td>\n",
       "      <td>0.374408</td>\n",
       "      <td>0.528643</td>\n",
       "      <td>0.817461</td>\n",
       "      <td>0.001851</td>\n",
       "      <td>0.105880</td>\n",
       "      <td>0.461818</td>\n",
       "      <td>126.957</td>\n",
       "      <td>0.269240</td>\n",
       "      <td>Hip-Hop</td>\n",
       "    </tr>\n",
       "    <tr>\n",
       "      <th>2</th>\n",
       "      <td>5</td>\n",
       "      <td>0.043567</td>\n",
       "      <td>0.745566</td>\n",
       "      <td>0.701470</td>\n",
       "      <td>0.000697</td>\n",
       "      <td>0.373143</td>\n",
       "      <td>0.124595</td>\n",
       "      <td>100.260</td>\n",
       "      <td>0.621661</td>\n",
       "      <td>Hip-Hop</td>\n",
       "    </tr>\n",
       "    <tr>\n",
       "      <th>3</th>\n",
       "      <td>134</td>\n",
       "      <td>0.452217</td>\n",
       "      <td>0.513238</td>\n",
       "      <td>0.560410</td>\n",
       "      <td>0.019443</td>\n",
       "      <td>0.096567</td>\n",
       "      <td>0.525519</td>\n",
       "      <td>114.290</td>\n",
       "      <td>0.894072</td>\n",
       "      <td>Hip-Hop</td>\n",
       "    </tr>\n",
       "    <tr>\n",
       "      <th>4</th>\n",
       "      <td>153</td>\n",
       "      <td>0.988306</td>\n",
       "      <td>0.255661</td>\n",
       "      <td>0.979774</td>\n",
       "      <td>0.973006</td>\n",
       "      <td>0.121342</td>\n",
       "      <td>0.051740</td>\n",
       "      <td>90.241</td>\n",
       "      <td>0.034018</td>\n",
       "      <td>Rock</td>\n",
       "    </tr>\n",
       "  </tbody>\n",
       "</table>\n",
       "</div>"
      ],
      "text/plain": [
       "   track_id  acousticness  danceability    energy  instrumentalness  liveness  \\\n",
       "0         2      0.416675      0.675894  0.634476          0.010628  0.177647   \n",
       "1         3      0.374408      0.528643  0.817461          0.001851  0.105880   \n",
       "2         5      0.043567      0.745566  0.701470          0.000697  0.373143   \n",
       "3       134      0.452217      0.513238  0.560410          0.019443  0.096567   \n",
       "4       153      0.988306      0.255661  0.979774          0.973006  0.121342   \n",
       "\n",
       "   speechiness    tempo   valence genre_top  \n",
       "0     0.159310  165.922  0.576661   Hip-Hop  \n",
       "1     0.461818  126.957  0.269240   Hip-Hop  \n",
       "2     0.124595  100.260  0.621661   Hip-Hop  \n",
       "3     0.525519  114.290  0.894072   Hip-Hop  \n",
       "4     0.051740   90.241  0.034018      Rock  "
      ]
     },
     "execution_count": 2,
     "metadata": {},
     "output_type": "execute_result"
    },
    {
     "data": {
      "application/javascript": [
       "\n",
       "            setTimeout(function() {\n",
       "                var nbb_cell_id = 2;\n",
       "                var nbb_unformatted_code = \"# Import libraries\\nimport pandas as pd\\n\\n# Read in track metadata with genre labels\\ntracks = pd.read_csv(\\\"fma-rock-vs-hiphop.csv\\\")\\n\\n# Read in track metrics with the features\\nechonest_metrics = pd.read_json(\\\"echonest-metrics.json\\\", precise_float=True)\\n\\n# Merge the relevant columns of tracks and echonest_metrics\\necho_tracks = pd.merge(\\n    echonest_metrics, tracks[[\\\"track_id\\\", \\\"genre_top\\\"]], on=\\\"track_id\\\"\\n)\\n\\n# Inspect the resultant dataframe\\necho_tracks.head()\";\n",
       "                var nbb_formatted_code = \"# Import libraries\\nimport pandas as pd\\n\\n# Read in track metadata with genre labels\\ntracks = pd.read_csv(\\\"fma-rock-vs-hiphop.csv\\\")\\n\\n# Read in track metrics with the features\\nechonest_metrics = pd.read_json(\\\"echonest-metrics.json\\\", precise_float=True)\\n\\n# Merge the relevant columns of tracks and echonest_metrics\\necho_tracks = pd.merge(\\n    echonest_metrics, tracks[[\\\"track_id\\\", \\\"genre_top\\\"]], on=\\\"track_id\\\"\\n)\\n\\n# Inspect the resultant dataframe\\necho_tracks.head()\";\n",
       "                var nbb_cells = Jupyter.notebook.get_cells();\n",
       "                for (var i = 0; i < nbb_cells.length; ++i) {\n",
       "                    if (nbb_cells[i].input_prompt_number == nbb_cell_id) {\n",
       "                        if (nbb_cells[i].get_text() == nbb_unformatted_code) {\n",
       "                             nbb_cells[i].set_text(nbb_formatted_code);\n",
       "                        }\n",
       "                        break;\n",
       "                    }\n",
       "                }\n",
       "            }, 500);\n",
       "            "
      ],
      "text/plain": [
       "<IPython.core.display.Javascript object>"
      ]
     },
     "metadata": {},
     "output_type": "display_data"
    }
   ],
   "source": [
    "# Import libraries\n",
    "import pandas as pd\n",
    "\n",
    "# Read in track metadata with genre labels\n",
    "tracks = pd.read_csv(\"fma-rock-vs-hiphop.csv\")\n",
    "\n",
    "# Read in track metrics with the features\n",
    "echonest_metrics = pd.read_json(\"echonest-metrics.json\", precise_float=True)\n",
    "\n",
    "# Merge the relevant columns of tracks and echonest_metrics\n",
    "echo_tracks = pd.merge(\n",
    "    echonest_metrics, tracks[[\"track_id\", \"genre_top\"]], on=\"track_id\"\n",
    ")\n",
    "\n",
    "# Inspect the resultant dataframe\n",
    "echo_tracks.head()"
   ]
  },
  {
   "cell_type": "code",
   "execution_count": 3,
   "metadata": {},
   "outputs": [
    {
     "data": {
      "application/javascript": [
       "\n",
       "            setTimeout(function() {\n",
       "                var nbb_cell_id = 3;\n",
       "                var nbb_unformatted_code = \"# Define our features\\nfeatures = echo_tracks.drop(columns=[\\\"genre_top\\\", \\\"track_id\\\"], axis=1)\\n\\n# Define our labels\\nlabels = echo_tracks[\\\"genre_top\\\"]\";\n",
       "                var nbb_formatted_code = \"# Define our features\\nfeatures = echo_tracks.drop(columns=[\\\"genre_top\\\", \\\"track_id\\\"], axis=1)\\n\\n# Define our labels\\nlabels = echo_tracks[\\\"genre_top\\\"]\";\n",
       "                var nbb_cells = Jupyter.notebook.get_cells();\n",
       "                for (var i = 0; i < nbb_cells.length; ++i) {\n",
       "                    if (nbb_cells[i].input_prompt_number == nbb_cell_id) {\n",
       "                        if (nbb_cells[i].get_text() == nbb_unformatted_code) {\n",
       "                             nbb_cells[i].set_text(nbb_formatted_code);\n",
       "                        }\n",
       "                        break;\n",
       "                    }\n",
       "                }\n",
       "            }, 500);\n",
       "            "
      ],
      "text/plain": [
       "<IPython.core.display.Javascript object>"
      ]
     },
     "metadata": {},
     "output_type": "display_data"
    }
   ],
   "source": [
    "# Define our features\n",
    "features = echo_tracks.drop(columns=[\"genre_top\", \"track_id\"], axis=1)\n",
    "\n",
    "# Define our labels\n",
    "labels = echo_tracks[\"genre_top\"]"
   ]
  },
  {
   "cell_type": "code",
   "execution_count": 4,
   "metadata": {},
   "outputs": [
    {
     "data": {
      "application/javascript": [
       "\n",
       "            setTimeout(function() {\n",
       "                var nbb_cell_id = 4;\n",
       "                var nbb_unformatted_code = \"from sklearn.model_selection import train_test_split\\n\\nX_train, X_test, y_train, y_test = train_test_split(\\n    features, labels, test_size=0.3, random_state=0\\n)\";\n",
       "                var nbb_formatted_code = \"from sklearn.model_selection import train_test_split\\n\\nX_train, X_test, y_train, y_test = train_test_split(\\n    features, labels, test_size=0.3, random_state=0\\n)\";\n",
       "                var nbb_cells = Jupyter.notebook.get_cells();\n",
       "                for (var i = 0; i < nbb_cells.length; ++i) {\n",
       "                    if (nbb_cells[i].input_prompt_number == nbb_cell_id) {\n",
       "                        if (nbb_cells[i].get_text() == nbb_unformatted_code) {\n",
       "                             nbb_cells[i].set_text(nbb_formatted_code);\n",
       "                        }\n",
       "                        break;\n",
       "                    }\n",
       "                }\n",
       "            }, 500);\n",
       "            "
      ],
      "text/plain": [
       "<IPython.core.display.Javascript object>"
      ]
     },
     "metadata": {},
     "output_type": "display_data"
    }
   ],
   "source": [
    "from sklearn.model_selection import train_test_split\n",
    "\n",
    "X_train, X_test, y_train, y_test = train_test_split(\n",
    "    features, labels, test_size=0.3, random_state=0\n",
    ")"
   ]
  },
  {
   "cell_type": "code",
   "execution_count": 5,
   "metadata": {},
   "outputs": [
    {
     "name": "stdout",
     "output_type": "stream",
     "text": [
      "Random Forest Accuracy: \n",
      " 0.9215822345593337\n",
      "Random Forest: \n",
      "               precision    recall  f1-score   support\n",
      "\n",
      "     Hip-Hop       0.84      0.73      0.78       279\n",
      "        Rock       0.94      0.97      0.95      1162\n",
      "\n",
      "    accuracy                           0.92      1441\n",
      "   macro avg       0.89      0.85      0.87      1441\n",
      "weighted avg       0.92      0.92      0.92      1441\n",
      "\n"
     ]
    },
    {
     "data": {
      "text/plain": [
       "array([[ 204,   75],\n",
       "       [  38, 1124]])"
      ]
     },
     "execution_count": 5,
     "metadata": {},
     "output_type": "execute_result"
    },
    {
     "data": {
      "application/javascript": [
       "\n",
       "            setTimeout(function() {\n",
       "                var nbb_cell_id = 5;\n",
       "                var nbb_unformatted_code = \"# MODELO COM PIPELINE\\nfrom sklearn.pipeline import Pipeline\\nfrom sklearn.preprocessing import OneHotEncoder, StandardScaler, MinMaxScaler\\nfrom sklearn.compose import ColumnTransformer\\nfrom sklearn.decomposition import PCA\\nfrom sklearn.tree import DecisionTreeClassifier\\nfrom sklearn.impute import SimpleImputer\\nfrom sklearn.ensemble import RandomForestClassifier\\n\\n# Criando o Preprocessamento no Pipeline\\nnumeric_transformer = Pipeline(\\n    steps=[(\\\"imputer\\\", SimpleImputer(strategy=\\\"median\\\")), (\\\"scaler\\\", StandardScaler())]\\n)\\n\\npreprocessor = ColumnTransformer(\\n    transformers=[(\\\"num\\\", numeric_transformer, X_train.columns)]\\n)\\n\\n# Pipeline com random forest\\n\\n\\nrf = Pipeline(\\n    steps=[(\\\"preprocessor\\\", preprocessor), (\\\"classifier\\\", RandomForestClassifier())]\\n)\\n\\n\\n# Fita o modelo\\nrf.fit(X_train, y_train)\\n\\n# predicoes\\ny_pred = rf.predict(X_test)\\n\\n# Acur\\u00e1cia do modelo\\nfrom sklearn.metrics import accuracy_score\\n\\nprint(\\\"Random Forest Accuracy: \\\\n\\\", accuracy_score(y_test, y_pred))\\n\\n# Classification report\\nfrom sklearn.metrics import classification_report\\n\\nclass_rep_rf = classification_report(y_test, y_pred)\\n\\nprint(\\\"Random Forest: \\\\n\\\", class_rep_rf)\\n\\n# Matriz de Confusao\\nfrom sklearn.metrics import confusion_matrix\\n\\nconfusion_matrix(y_test, y_pred)\";\n",
       "                var nbb_formatted_code = \"# MODELO COM PIPELINE\\nfrom sklearn.pipeline import Pipeline\\nfrom sklearn.preprocessing import OneHotEncoder, StandardScaler, MinMaxScaler\\nfrom sklearn.compose import ColumnTransformer\\nfrom sklearn.decomposition import PCA\\nfrom sklearn.tree import DecisionTreeClassifier\\nfrom sklearn.impute import SimpleImputer\\nfrom sklearn.ensemble import RandomForestClassifier\\n\\n# Criando o Preprocessamento no Pipeline\\nnumeric_transformer = Pipeline(\\n    steps=[(\\\"imputer\\\", SimpleImputer(strategy=\\\"median\\\")), (\\\"scaler\\\", StandardScaler())]\\n)\\n\\npreprocessor = ColumnTransformer(\\n    transformers=[(\\\"num\\\", numeric_transformer, X_train.columns)]\\n)\\n\\n# Pipeline com random forest\\n\\n\\nrf = Pipeline(\\n    steps=[(\\\"preprocessor\\\", preprocessor), (\\\"classifier\\\", RandomForestClassifier())]\\n)\\n\\n\\n# Fita o modelo\\nrf.fit(X_train, y_train)\\n\\n# predicoes\\ny_pred = rf.predict(X_test)\\n\\n# Acur\\u00e1cia do modelo\\nfrom sklearn.metrics import accuracy_score\\n\\nprint(\\\"Random Forest Accuracy: \\\\n\\\", accuracy_score(y_test, y_pred))\\n\\n# Classification report\\nfrom sklearn.metrics import classification_report\\n\\nclass_rep_rf = classification_report(y_test, y_pred)\\n\\nprint(\\\"Random Forest: \\\\n\\\", class_rep_rf)\\n\\n# Matriz de Confusao\\nfrom sklearn.metrics import confusion_matrix\\n\\nconfusion_matrix(y_test, y_pred)\";\n",
       "                var nbb_cells = Jupyter.notebook.get_cells();\n",
       "                for (var i = 0; i < nbb_cells.length; ++i) {\n",
       "                    if (nbb_cells[i].input_prompt_number == nbb_cell_id) {\n",
       "                        if (nbb_cells[i].get_text() == nbb_unformatted_code) {\n",
       "                             nbb_cells[i].set_text(nbb_formatted_code);\n",
       "                        }\n",
       "                        break;\n",
       "                    }\n",
       "                }\n",
       "            }, 500);\n",
       "            "
      ],
      "text/plain": [
       "<IPython.core.display.Javascript object>"
      ]
     },
     "metadata": {},
     "output_type": "display_data"
    }
   ],
   "source": [
    "# MODELO COM PIPELINE\n",
    "from sklearn.pipeline import Pipeline\n",
    "from sklearn.preprocessing import OneHotEncoder, StandardScaler, MinMaxScaler\n",
    "from sklearn.compose import ColumnTransformer\n",
    "from sklearn.decomposition import PCA\n",
    "from sklearn.tree import DecisionTreeClassifier\n",
    "from sklearn.impute import SimpleImputer\n",
    "from sklearn.ensemble import RandomForestClassifier\n",
    "\n",
    "# Criando o Preprocessamento no Pipeline\n",
    "numeric_transformer = Pipeline(\n",
    "    steps=[(\"imputer\", SimpleImputer(strategy=\"median\")), (\"scaler\", StandardScaler())]\n",
    ")\n",
    "\n",
    "preprocessor = ColumnTransformer(\n",
    "    transformers=[(\"num\", numeric_transformer, X_train.columns)]\n",
    ")\n",
    "\n",
    "# Pipeline com random forest\n",
    "\n",
    "\n",
    "rf = Pipeline(\n",
    "    steps=[(\"preprocessor\", preprocessor), (\"classifier\", RandomForestClassifier())]\n",
    ")\n",
    "\n",
    "\n",
    "# Fita o modelo\n",
    "rf.fit(X_train, y_train)\n",
    "\n",
    "# predicoes\n",
    "y_pred = rf.predict(X_test)\n",
    "\n",
    "# Acurácia do modelo\n",
    "from sklearn.metrics import accuracy_score\n",
    "\n",
    "print(\"Random Forest Accuracy: \\n\", accuracy_score(y_test, y_pred))\n",
    "\n",
    "# Classification report\n",
    "from sklearn.metrics import classification_report\n",
    "\n",
    "class_rep_rf = classification_report(y_test, y_pred)\n",
    "\n",
    "print(\"Random Forest: \\n\", class_rep_rf)\n",
    "\n",
    "# Matriz de Confusao\n",
    "from sklearn.metrics import confusion_matrix\n",
    "\n",
    "confusion_matrix(y_test, y_pred)"
   ]
  },
  {
   "cell_type": "markdown",
   "metadata": {},
   "source": [
    "E se tivéssemos colunas categóricas?\n",
    "\n",
    "```python\n",
    "# Criando o Preprocessamento no Pipeline\n",
    "numeric_transformer = Pipeline(\n",
    "    steps=[(\"median_imputer\", SimpleImputer(strategy=\"median\")), (\"scaler\", StandardScaler())]\n",
    ")\n",
    "\n",
    "categorical_transformer = Pipeline(\n",
    "    steps=[('freq_imputer', SimpleImputer(strategy='most_frequent')] \n",
    ")\n",
    "\n",
    "# aplica transformador numerico nas colunas 0 e 1 e categorico nas 2 e 3\n",
    "t = [('num', numeric_transformer, [0, 1]), ('cat', categorical_transformer, [2, 3])]\n",
    "trasnformer = ColumnTransformer(transformers=t)\n",
    "\n",
    "rf = Pipeline(\n",
    "    steps=[(\"trasnformer\", transformer), (\"classifier\", RandomForestClassifier())]\n",
    ")\n",
    "\n",
    "# Fita o modelo\n",
    "rf.fit(X_train, y_train)\n",
    "\n",
    "# predicoes\n",
    "y_pred = rf.predict(X_test)\n",
    "```"
   ]
  },
  {
   "cell_type": "markdown",
   "metadata": {},
   "source": [
    "```python\n",
    "# Avaliação com kfold\n",
    "from sklearn.model_selection import KFold, cross_val_score\n",
    "import numpy as np\n",
    "\n",
    "# Set up our K-fold cross-validation\n",
    "kf = KFold(n_splits=10, random_state=10)\n",
    "\n",
    "rf = RandomForestClassifier(random_state=10)\n",
    "\n",
    "# Train our models using KFold cv\n",
    "rf_score = cross_val_score(rf, X_train, y_train, cv=kf)\n",
    "\n",
    "# Print the mean of each array of scores\n",
    "print(\"Random Forest: \", np.mean(rf_score))\n",
    "```"
   ]
  },
  {
   "cell_type": "markdown",
   "metadata": {},
   "source": [
    "FEATURE IMPORTANCE 1"
   ]
  },
  {
   "cell_type": "code",
   "execution_count": 7,
   "metadata": {},
   "outputs": [
    {
     "name": "stdout",
     "output_type": "stream",
     "text": [
      "Feature ranking:\n",
      "1. feature 5 (0.318265)\n",
      "2. feature 1 (0.194929)\n",
      "3. feature 3 (0.104046)\n",
      "4. feature 6 (0.103308)\n",
      "5. feature 2 (0.081689)\n",
      "6. feature 0 (0.078924)\n",
      "7. feature 7 (0.072756)\n",
      "8. feature 4 (0.046082)\n"
     ]
    },
    {
     "data": {
      "text/plain": [
       "(-1, 8)"
      ]
     },
     "execution_count": 7,
     "metadata": {},
     "output_type": "execute_result"
    },
    {
     "data": {
      "image/png": "[encoded data removed]",
      "text/plain": [
       "<Figure size 800x400 with 1 Axes>"
      ]
     },
     "metadata": {},
     "output_type": "display_data"
    },
    {
     "data": {
      "application/javascript": [
       "\n",
       "            setTimeout(function() {\n",
       "                var nbb_cell_id = 7;\n",
       "                var nbb_unformatted_code = \"import numpy as np\\nimportances = rf.steps[1][1].feature_importances_\\n\\nstd = np.std([tree.feature_importances_ for tree in rf.steps[1][1].estimators_], axis=0)\\nindices = np.argsort(importances)[::-1]\\n\\n# Print the feature ranking\\nprint(\\\"Feature ranking:\\\")\\n\\nfor f in range(X_test.shape[1]):\\n    print(\\\"%d. feature %d (%f)\\\" % (f + 1, indices[f], importances[indices[f]]))\\n\\n# Plot the impurity-based feature importances of the forest\\nplt.figure()\\nplt.title(\\\"Feature importances\\\")\\nplt.bar(\\n    range(X_test.shape[1]),\\n    importances[indices],\\n    color=\\\"r\\\",\\n    yerr=std[indices],\\n    align=\\\"center\\\",\\n)\\nplt.xticks(range(X_test.shape[1]), indices)\\nplt.xlim([-1, X_test.shape[1]])\";\n",
       "                var nbb_formatted_code = \"import numpy as np\\n\\nimportances = rf.steps[1][1].feature_importances_\\n\\nstd = np.std([tree.feature_importances_ for tree in rf.steps[1][1].estimators_], axis=0)\\nindices = np.argsort(importances)[::-1]\\n\\n# Print the feature ranking\\nprint(\\\"Feature ranking:\\\")\\n\\nfor f in range(X_test.shape[1]):\\n    print(\\\"%d. feature %d (%f)\\\" % (f + 1, indices[f], importances[indices[f]]))\\n\\n# Plot the impurity-based feature importances of the forest\\nplt.figure()\\nplt.title(\\\"Feature importances\\\")\\nplt.bar(\\n    range(X_test.shape[1]),\\n    importances[indices],\\n    color=\\\"r\\\",\\n    yerr=std[indices],\\n    align=\\\"center\\\",\\n)\\nplt.xticks(range(X_test.shape[1]), indices)\\nplt.xlim([-1, X_test.shape[1]])\";\n",
       "                var nbb_cells = Jupyter.notebook.get_cells();\n",
       "                for (var i = 0; i < nbb_cells.length; ++i) {\n",
       "                    if (nbb_cells[i].input_prompt_number == nbb_cell_id) {\n",
       "                        if (nbb_cells[i].get_text() == nbb_unformatted_code) {\n",
       "                             nbb_cells[i].set_text(nbb_formatted_code);\n",
       "                        }\n",
       "                        break;\n",
       "                    }\n",
       "                }\n",
       "            }, 500);\n",
       "            "
      ],
      "text/plain": [
       "<IPython.core.display.Javascript object>"
      ]
     },
     "metadata": {},
     "output_type": "display_data"
    }
   ],
   "source": [
    "import numpy as np\n",
    "\n",
    "importances = rf.steps[1][1].feature_importances_\n",
    "\n",
    "std = np.std([tree.feature_importances_ for tree in rf.steps[1][1].estimators_], axis=0)\n",
    "indices = np.argsort(importances)[::-1]\n",
    "\n",
    "# Print the feature ranking\n",
    "print(\"Feature ranking:\")\n",
    "\n",
    "for f in range(X_test.shape[1]):\n",
    "    print(\"%d. feature %d (%f)\" % (f + 1, indices[f], importances[indices[f]]))\n",
    "\n",
    "# Plot the impurity-based feature importances of the forest\n",
    "plt.figure()\n",
    "plt.title(\"Feature importances\")\n",
    "plt.bar(\n",
    "    range(X_test.shape[1]),\n",
    "    importances[indices],\n",
    "    color=\"r\",\n",
    "    yerr=std[indices],\n",
    "    align=\"center\",\n",
    ")\n",
    "plt.xticks(range(X_test.shape[1]), indices)\n",
    "plt.xlim([-1, X_test.shape[1]])"
   ]
  },
  {
   "cell_type": "markdown",
   "metadata": {},
   "source": [
    "FEATURE IMPORTANCE 2"
   ]
  },
  {
   "cell_type": "code",
   "execution_count": 16,
   "metadata": {},
   "outputs": [
    {
     "data": {
      "text/html": [
       "<div>\n",
       "<style scoped>\n",
       "    .dataframe tbody tr th:only-of-type {\n",
       "        vertical-align: middle;\n",
       "    }\n",
       "\n",
       "    .dataframe tbody tr th {\n",
       "        vertical-align: top;\n",
       "    }\n",
       "\n",
       "    .dataframe thead th {\n",
       "        text-align: right;\n",
       "    }\n",
       "</style>\n",
       "<table border=\"1\" class=\"dataframe\">\n",
       "  <thead>\n",
       "    <tr style=\"text-align: right;\">\n",
       "      <th></th>\n",
       "      <th>feature</th>\n",
       "      <th>value</th>\n",
       "    </tr>\n",
       "  </thead>\n",
       "  <tbody>\n",
       "    <tr>\n",
       "      <th>0</th>\n",
       "      <td>acousticness</td>\n",
       "      <td>0.078924</td>\n",
       "    </tr>\n",
       "    <tr>\n",
       "      <th>1</th>\n",
       "      <td>danceability</td>\n",
       "      <td>0.194929</td>\n",
       "    </tr>\n",
       "    <tr>\n",
       "      <th>2</th>\n",
       "      <td>energy</td>\n",
       "      <td>0.081689</td>\n",
       "    </tr>\n",
       "    <tr>\n",
       "      <th>3</th>\n",
       "      <td>instrumentalness</td>\n",
       "      <td>0.104046</td>\n",
       "    </tr>\n",
       "    <tr>\n",
       "      <th>4</th>\n",
       "      <td>liveness</td>\n",
       "      <td>0.046082</td>\n",
       "    </tr>\n",
       "    <tr>\n",
       "      <th>5</th>\n",
       "      <td>speechiness</td>\n",
       "      <td>0.318265</td>\n",
       "    </tr>\n",
       "    <tr>\n",
       "      <th>6</th>\n",
       "      <td>tempo</td>\n",
       "      <td>0.103308</td>\n",
       "    </tr>\n",
       "    <tr>\n",
       "      <th>7</th>\n",
       "      <td>valence</td>\n",
       "      <td>0.072756</td>\n",
       "    </tr>\n",
       "  </tbody>\n",
       "</table>\n",
       "</div>"
      ],
      "text/plain": [
       "            feature     value\n",
       "0      acousticness  0.078924\n",
       "1      danceability  0.194929\n",
       "2            energy  0.081689\n",
       "3  instrumentalness  0.104046\n",
       "4          liveness  0.046082\n",
       "5       speechiness  0.318265\n",
       "6             tempo  0.103308\n",
       "7           valence  0.072756"
      ]
     },
     "execution_count": 16,
     "metadata": {},
     "output_type": "execute_result"
    },
    {
     "data": {
      "application/javascript": [
       "\n",
       "            setTimeout(function() {\n",
       "                var nbb_cell_id = 16;\n",
       "                var nbb_unformatted_code = \"# named_steps serve pra acessar as informa\\u00e7\\u00f5es do passo\\ncoefs = rf.named_steps[\\\"classifier\\\"].feature_importances_.flatten()\\n\\n# Zip coefficients and names together and make a DataFrame\\nzipped = zip(features.columns, coefs)\\ndf = pd.DataFrame(zipped, columns=[\\\"feature\\\", \\\"value\\\"])\\ndf\";\n",
       "                var nbb_formatted_code = \"# named_steps serve pra acessar as informa\\u00e7\\u00f5es do passo\\ncoefs = rf.named_steps[\\\"classifier\\\"].feature_importances_.flatten()\\n\\n# Zip coefficients and names together and make a DataFrame\\nzipped = zip(features.columns, coefs)\\ndf = pd.DataFrame(zipped, columns=[\\\"feature\\\", \\\"value\\\"])\\ndf\";\n",
       "                var nbb_cells = Jupyter.notebook.get_cells();\n",
       "                for (var i = 0; i < nbb_cells.length; ++i) {\n",
       "                    if (nbb_cells[i].input_prompt_number == nbb_cell_id) {\n",
       "                        if (nbb_cells[i].get_text() == nbb_unformatted_code) {\n",
       "                             nbb_cells[i].set_text(nbb_formatted_code);\n",
       "                        }\n",
       "                        break;\n",
       "                    }\n",
       "                }\n",
       "            }, 500);\n",
       "            "
      ],
      "text/plain": [
       "<IPython.core.display.Javascript object>"
      ]
     },
     "metadata": {},
     "output_type": "display_data"
    }
   ],
   "source": [
    "# named_steps serve pra acessar as informações do passo\n",
    "coefs = rf.named_steps[\"classifier\"].feature_importances_.flatten()\n",
    "\n",
    "# Zipa os valores e nomes e mete num dataframe\n",
    "zipped = zip(features.columns, coefs)\n",
    "df = pd.DataFrame(zipped, columns=[\"feature\", \"value\"])\n",
    "df"
   ]
  },
  {
   "cell_type": "code",
   "execution_count": 18,
   "metadata": {},
   "outputs": [
    {
     "data": {
      "text/plain": [
       "Text(0.5, 0, 'Feature Name')"
      ]
     },
     "execution_count": 18,
     "metadata": {},
     "output_type": "execute_result"
    },
    {
     "data": {
      "image/png": "[encoded data removed]",
      "text/plain": [
       "<Figure size 960x560 with 1 Axes>"
      ]
     },
     "metadata": {},
     "output_type": "display_data"
    },
    {
     "data": {
      "application/javascript": [
       "\n",
       "            setTimeout(function() {\n",
       "                var nbb_cell_id = 18;\n",
       "                var nbb_unformatted_code = \"# organiza as features de acordo com o valor em m\\u00f3dulo\\ndf[\\\"abs_value\\\"] = df[\\\"value\\\"].apply(lambda x: abs(x))\\ndf[\\\"colors\\\"] = df[\\\"value\\\"].apply(lambda x: \\\"green\\\" if x > 0 else \\\"red\\\")\\ndf = df.sort_values(\\\"abs_value\\\", ascending=False)\\n\\nimport seaborn as sns\\nfig, ax = plt.subplots(1, 1, figsize=(12, 7))\\nsns.barplot(x=\\\"feature\\\",\\n            y=\\\"value\\\",\\n            data=df.head(20),\\n           palette=df.head(20)[\\\"colors\\\"])\\nax.set_xticklabels(ax.get_xticklabels(), rotation=90, fontsize=20)\\nax.set_title(\\\"Top 20 Features\\\", fontsize=25)\\nax.set_ylabel(\\\"Coef\\\", fontsize=22)\\nax.set_xlabel(\\\"Feature Name\\\", fontsize=22)\";\n",
       "                var nbb_formatted_code = \"# organiza as features de acordo com o valor em m\\u00f3dulo\\ndf[\\\"abs_value\\\"] = df[\\\"value\\\"].apply(lambda x: abs(x))\\ndf[\\\"colors\\\"] = df[\\\"value\\\"].apply(lambda x: \\\"green\\\" if x > 0 else \\\"red\\\")\\ndf = df.sort_values(\\\"abs_value\\\", ascending=False)\\n\\nimport seaborn as sns\\n\\nfig, ax = plt.subplots(1, 1, figsize=(12, 7))\\nsns.barplot(x=\\\"feature\\\", y=\\\"value\\\", data=df.head(20), palette=df.head(20)[\\\"colors\\\"])\\nax.set_xticklabels(ax.get_xticklabels(), rotation=90, fontsize=20)\\nax.set_title(\\\"Top 20 Features\\\", fontsize=25)\\nax.set_ylabel(\\\"Coef\\\", fontsize=22)\\nax.set_xlabel(\\\"Feature Name\\\", fontsize=22)\";\n",
       "                var nbb_cells = Jupyter.notebook.get_cells();\n",
       "                for (var i = 0; i < nbb_cells.length; ++i) {\n",
       "                    if (nbb_cells[i].input_prompt_number == nbb_cell_id) {\n",
       "                        if (nbb_cells[i].get_text() == nbb_unformatted_code) {\n",
       "                             nbb_cells[i].set_text(nbb_formatted_code);\n",
       "                        }\n",
       "                        break;\n",
       "                    }\n",
       "                }\n",
       "            }, 500);\n",
       "            "
      ],
      "text/plain": [
       "<IPython.core.display.Javascript object>"
      ]
     },
     "metadata": {},
     "output_type": "display_data"
    }
   ],
   "source": [
    "# organiza as features de acordo com o valor em módulo\n",
    "df[\"abs_value\"] = df[\"value\"].apply(lambda x: abs(x))\n",
    "df[\"colors\"] = df[\"value\"].apply(lambda x: \"green\" if x > 0 else \"red\")\n",
    "df = df.sort_values(\"abs_value\", ascending=False)\n",
    "\n",
    "# plota as features\n",
    "fig, ax = plt.subplots(1, 1, figsize=(12, 7))\n",
    "sns.barplot(x=\"feature\", y=\"value\", data=df.head(20), palette=df.head(20)[\"colors\"])\n",
    "ax.set_xticklabels(ax.get_xticklabels(), rotation=90, fontsize=20)\n",
    "ax.set_title(\"Top 20 Features\", fontsize=25)\n",
    "ax.set_ylabel(\"Coef\", fontsize=22)\n",
    "ax.set_xlabel(\"Feature Name\", fontsize=22)"
   ]
  },
  {
   "cell_type": "markdown",
   "metadata": {},
   "source": [
    "PERMUTATION IMPORTANCE"
   ]
  },
  {
   "cell_type": "code",
   "execution_count": 20,
   "metadata": {},
   "outputs": [
    {
     "data": {
      "text/html": [
       "\n",
       "    <style>\n",
       "    table.eli5-weights tr:hover {\n",
       "        filter: brightness(85%);\n",
       "    }\n",
       "</style>\n",
       "\n",
       "\n",
       "\n",
       "    \n",
       "\n",
       "    \n",
       "\n",
       "    \n",
       "\n",
       "    \n",
       "\n",
       "    \n",
       "\n",
       "    \n",
       "\n",
       "\n",
       "    \n",
       "\n",
       "    \n",
       "\n",
       "    \n",
       "\n",
       "    \n",
       "\n",
       "    \n",
       "\n",
       "    \n",
       "\n",
       "\n",
       "    \n",
       "\n",
       "    \n",
       "\n",
       "    \n",
       "\n",
       "    \n",
       "\n",
       "    \n",
       "        <table class=\"eli5-weights eli5-feature-importances\" style=\"border-collapse: collapse; border: none; margin-top: 0em; table-layout: auto;\">\n",
       "    <thead>\n",
       "    <tr style=\"border: none;\">\n",
       "        <th style=\"padding: 0 1em 0 0.5em; text-align: right; border: none;\">Weight</th>\n",
       "        <th style=\"padding: 0 0.5em 0 0.5em; text-align: left; border: none;\">Feature</th>\n",
       "    </tr>\n",
       "    </thead>\n",
       "    <tbody>\n",
       "    \n",
       "        <tr style=\"background-color: hsl(120, 100.00%, 80.00%); border: none;\">\n",
       "            <td style=\"padding: 0 1em 0 0.5em; text-align: right; border: none;\">\n",
       "                0.0890\n",
       "                \n",
       "                    &plusmn; 0.0171\n",
       "                \n",
       "            </td>\n",
       "            <td style=\"padding: 0 0.5em 0 0.5em; text-align: left; border: none;\">\n",
       "                speechiness\n",
       "            </td>\n",
       "        </tr>\n",
       "    \n",
       "        <tr style=\"background-color: hsl(120, 100.00%, 87.27%); border: none;\">\n",
       "            <td style=\"padding: 0 1em 0 0.5em; text-align: right; border: none;\">\n",
       "                0.0466\n",
       "                \n",
       "                    &plusmn; 0.0061\n",
       "                \n",
       "            </td>\n",
       "            <td style=\"padding: 0 0.5em 0 0.5em; text-align: left; border: none;\">\n",
       "                danceability\n",
       "            </td>\n",
       "        </tr>\n",
       "    \n",
       "        <tr style=\"background-color: hsl(120, 100.00%, 92.40%); border: none;\">\n",
       "            <td style=\"padding: 0 1em 0 0.5em; text-align: right; border: none;\">\n",
       "                0.0223\n",
       "                \n",
       "                    &plusmn; 0.0022\n",
       "                \n",
       "            </td>\n",
       "            <td style=\"padding: 0 0.5em 0 0.5em; text-align: left; border: none;\">\n",
       "                acousticness\n",
       "            </td>\n",
       "        </tr>\n",
       "    \n",
       "        <tr style=\"background-color: hsl(120, 100.00%, 93.14%); border: none;\">\n",
       "            <td style=\"padding: 0 1em 0 0.5em; text-align: right; border: none;\">\n",
       "                0.0193\n",
       "                \n",
       "                    &plusmn; 0.0054\n",
       "                \n",
       "            </td>\n",
       "            <td style=\"padding: 0 0.5em 0 0.5em; text-align: left; border: none;\">\n",
       "                tempo\n",
       "            </td>\n",
       "        </tr>\n",
       "    \n",
       "        <tr style=\"background-color: hsl(120, 100.00%, 97.39%); border: none;\">\n",
       "            <td style=\"padding: 0 1em 0 0.5em; text-align: right; border: none;\">\n",
       "                0.0049\n",
       "                \n",
       "                    &plusmn; 0.0044\n",
       "                \n",
       "            </td>\n",
       "            <td style=\"padding: 0 0.5em 0 0.5em; text-align: left; border: none;\">\n",
       "                valence\n",
       "            </td>\n",
       "        </tr>\n",
       "    \n",
       "        <tr style=\"background-color: hsl(120, 100.00%, 97.44%); border: none;\">\n",
       "            <td style=\"padding: 0 1em 0 0.5em; text-align: right; border: none;\">\n",
       "                0.0047\n",
       "                \n",
       "                    &plusmn; 0.0059\n",
       "                \n",
       "            </td>\n",
       "            <td style=\"padding: 0 0.5em 0 0.5em; text-align: left; border: none;\">\n",
       "                energy\n",
       "            </td>\n",
       "        </tr>\n",
       "    \n",
       "        <tr style=\"background-color: hsl(120, 100.00%, 97.65%); border: none;\">\n",
       "            <td style=\"padding: 0 1em 0 0.5em; text-align: right; border: none;\">\n",
       "                0.0042\n",
       "                \n",
       "                    &plusmn; 0.0073\n",
       "                \n",
       "            </td>\n",
       "            <td style=\"padding: 0 0.5em 0 0.5em; text-align: left; border: none;\">\n",
       "                instrumentalness\n",
       "            </td>\n",
       "        </tr>\n",
       "    \n",
       "        <tr style=\"background-color: hsl(0, 100.00%, 98.91%); border: none;\">\n",
       "            <td style=\"padding: 0 1em 0 0.5em; text-align: right; border: none;\">\n",
       "                -0.0014\n",
       "                \n",
       "                    &plusmn; 0.0044\n",
       "                \n",
       "            </td>\n",
       "            <td style=\"padding: 0 0.5em 0 0.5em; text-align: left; border: none;\">\n",
       "                liveness\n",
       "            </td>\n",
       "        </tr>\n",
       "    \n",
       "    \n",
       "    </tbody>\n",
       "</table>\n",
       "    \n",
       "\n",
       "    \n",
       "\n",
       "\n",
       "    \n",
       "\n",
       "    \n",
       "\n",
       "    \n",
       "\n",
       "    \n",
       "\n",
       "    \n",
       "\n",
       "    \n",
       "\n",
       "\n",
       "\n"
      ],
      "text/plain": [
       "<IPython.core.display.HTML object>"
      ]
     },
     "execution_count": 20,
     "metadata": {},
     "output_type": "execute_result"
    },
    {
     "data": {
      "application/javascript": [
       "\n",
       "            setTimeout(function() {\n",
       "                var nbb_cell_id = 20;\n",
       "                var nbb_unformatted_code = \"import eli5\\nfrom eli5.sklearn import PermutationImportance\\n\\nperm = PermutationImportance(rf, random_state=1).fit(X_test, y_test)\\neli5.show_weights(perm, feature_names = X_test.columns.tolist())\";\n",
       "                var nbb_formatted_code = \"import eli5\\nfrom eli5.sklearn import PermutationImportance\\n\\nperm = PermutationImportance(rf, random_state=1).fit(X_test, y_test)\\neli5.show_weights(perm, feature_names=X_test.columns.tolist())\";\n",
       "                var nbb_cells = Jupyter.notebook.get_cells();\n",
       "                for (var i = 0; i < nbb_cells.length; ++i) {\n",
       "                    if (nbb_cells[i].input_prompt_number == nbb_cell_id) {\n",
       "                        if (nbb_cells[i].get_text() == nbb_unformatted_code) {\n",
       "                             nbb_cells[i].set_text(nbb_formatted_code);\n",
       "                        }\n",
       "                        break;\n",
       "                    }\n",
       "                }\n",
       "            }, 500);\n",
       "            "
      ],
      "text/plain": [
       "<IPython.core.display.Javascript object>"
      ]
     },
     "metadata": {},
     "output_type": "display_data"
    }
   ],
   "source": [
    "import eli5\n",
    "from eli5.sklearn import PermutationImportance\n",
    "\n",
    "perm = PermutationImportance(rf, random_state=1).fit(X_test, y_test)\n",
    "eli5.show_weights(perm, feature_names=X_test.columns.tolist())"
   ]
  },
  {
   "cell_type": "markdown",
   "metadata": {},
   "source": [
    "PARTIAL DEPENDENCE PLOTS"
   ]
  },
  {
   "cell_type": "code",
   "execution_count": 29,
   "metadata": {},
   "outputs": [
    {
     "data": {
      "text/plain": [
       "(<Figure size 1200x760 with 2 Axes>,\n",
       " {'title_ax': <matplotlib.axes._subplots.AxesSubplot at 0x7f956c057a90>,\n",
       "  'pdp_ax': <matplotlib.axes._subplots.AxesSubplot at 0x7f9572b7c510>})"
      ]
     },
     "execution_count": 29,
     "metadata": {},
     "output_type": "execute_result"
    },
    {
     "data": {
      "image/png": "[encoded data removed]",
      "text/plain": [
       "<Figure size 1200x760 with 2 Axes>"
      ]
     },
     "metadata": {},
     "output_type": "display_data"
    },
    {
     "data": {
      "application/javascript": [
       "\n",
       "            setTimeout(function() {\n",
       "                var nbb_cell_id = 29;\n",
       "                var nbb_unformatted_code = \"# Fontes:\\n# https://www.kaggle.com/dansbecker/partial-plots\\n# https://christophm.github.io/interpretable-ml-book/pdp.html\\n\\nfrom pdpbox import pdp, get_dataset, info_plots\\n\\n\\nfeature_to_plot = \\\"speechiness\\\"\\n\\npdp_dist = pdp.pdp_isolate(\\n    model=rf,\\n    dataset=X_test,\\n    model_features=features.columns.to_list(),\\n    feature=feature_to_plot,\\n)\\n\\npdp.pdp_plot(pdp_dist, feature_to_plot)\";\n",
       "                var nbb_formatted_code = \"# Fontes:\\n# https://www.kaggle.com/dansbecker/partial-plots\\n# https://christophm.github.io/interpretable-ml-book/pdp.html\\n\\nfrom pdpbox import pdp, get_dataset, info_plots\\n\\n\\nfeature_to_plot = \\\"speechiness\\\"\\n\\npdp_dist = pdp.pdp_isolate(\\n    model=rf,\\n    dataset=X_test,\\n    model_features=features.columns.to_list(),\\n    feature=feature_to_plot,\\n)\\n\\npdp.pdp_plot(pdp_dist, feature_to_plot)\";\n",
       "                var nbb_cells = Jupyter.notebook.get_cells();\n",
       "                for (var i = 0; i < nbb_cells.length; ++i) {\n",
       "                    if (nbb_cells[i].input_prompt_number == nbb_cell_id) {\n",
       "                        if (nbb_cells[i].get_text() == nbb_unformatted_code) {\n",
       "                             nbb_cells[i].set_text(nbb_formatted_code);\n",
       "                        }\n",
       "                        break;\n",
       "                    }\n",
       "                }\n",
       "            }, 500);\n",
       "            "
      ],
      "text/plain": [
       "<IPython.core.display.Javascript object>"
      ]
     },
     "metadata": {},
     "output_type": "display_data"
    }
   ],
   "source": [
    "# Fontes:\n",
    "# https://www.kaggle.com/dansbecker/partial-plots\n",
    "# https://christophm.github.io/interpretable-ml-book/pdp.html\n",
    "\n",
    "from pdpbox import pdp, get_dataset, info_plots\n",
    "\n",
    "\n",
    "feature_to_plot = \"speechiness\"\n",
    "\n",
    "pdp_dist = pdp.pdp_isolate(\n",
    "    model=rf,\n",
    "    dataset=X_test,\n",
    "    model_features=features.columns.to_list(),\n",
    "    feature=feature_to_plot,\n",
    ")\n",
    "\n",
    "pdp.pdp_plot(pdp_dist, feature_to_plot)"
   ]
  },
  {
   "cell_type": "code",
   "execution_count": 30,
   "metadata": {},
   "outputs": [
    {
     "data": {
      "text/plain": [
       "(<Figure size 1200x760 with 2 Axes>,\n",
       " {'title_ax': <matplotlib.axes._subplots.AxesSubplot at 0x7f9570c19990>,\n",
       "  'pdp_ax': <matplotlib.axes._subplots.AxesSubplot at 0x7f9553238110>})"
      ]
     },
     "execution_count": 30,
     "metadata": {},
     "output_type": "execute_result"
    },
    {
     "data": {
      "image/png": "[encoded data removed]",
      "text/plain": [
       "<Figure size 1200x760 with 2 Axes>"
      ]
     },
     "metadata": {},
     "output_type": "display_data"
    },
    {
     "data": {
      "application/javascript": [
       "\n",
       "            setTimeout(function() {\n",
       "                var nbb_cell_id = 30;\n",
       "                var nbb_unformatted_code = \"# Fontes:\\n# https://www.kaggle.com/dansbecker/partial-plots\\n# https://christophm.github.io/interpretable-ml-book/pdp.html\\n\\nfrom pdpbox import pdp, get_dataset, info_plots\\n\\n\\nfeature_to_plot = [\\\"speechiness\\\", \\\"danceability\\\"]\\n\\npdp_dist = pdp.pdp_isolate(\\n    model=rf,\\n    dataset=X_test,\\n    model_features=features.columns.to_list(),\\n    feature=feature_to_plot,\\n)\\n\\npdp.pdp_plot(pdp_dist, feature_to_plot)\";\n",
       "                var nbb_formatted_code = \"# Fontes:\\n# https://www.kaggle.com/dansbecker/partial-plots\\n# https://christophm.github.io/interpretable-ml-book/pdp.html\\n\\nfrom pdpbox import pdp, get_dataset, info_plots\\n\\n\\nfeature_to_plot = [\\\"speechiness\\\", \\\"danceability\\\"]\\n\\npdp_dist = pdp.pdp_isolate(\\n    model=rf,\\n    dataset=X_test,\\n    model_features=features.columns.to_list(),\\n    feature=feature_to_plot,\\n)\\n\\npdp.pdp_plot(pdp_dist, feature_to_plot)\";\n",
       "                var nbb_cells = Jupyter.notebook.get_cells();\n",
       "                for (var i = 0; i < nbb_cells.length; ++i) {\n",
       "                    if (nbb_cells[i].input_prompt_number == nbb_cell_id) {\n",
       "                        if (nbb_cells[i].get_text() == nbb_unformatted_code) {\n",
       "                             nbb_cells[i].set_text(nbb_formatted_code);\n",
       "                        }\n",
       "                        break;\n",
       "                    }\n",
       "                }\n",
       "            }, 500);\n",
       "            "
      ],
      "text/plain": [
       "<IPython.core.display.Javascript object>"
      ]
     },
     "metadata": {},
     "output_type": "display_data"
    }
   ],
   "source": [
    "# Fontes:\n",
    "# https://www.kaggle.com/dansbecker/partial-plots\n",
    "# https://christophm.github.io/interpretable-ml-book/pdp.html\n",
    "\n",
    "from pdpbox import pdp, get_dataset, info_plots\n",
    "\n",
    "\n",
    "feature_to_plot = [\"speechiness\", \"danceability\"]\n",
    "\n",
    "pdp_dist = pdp.pdp_isolate(\n",
    "    model=rf,\n",
    "    dataset=X_test,\n",
    "    model_features=features.columns.to_list(),\n",
    "    feature=feature_to_plot,\n",
    ")\n",
    "\n",
    "pdp.pdp_plot(pdp_dist, feature_to_plot)"
   ]
  },
  {
   "cell_type": "markdown",
   "metadata": {},
   "source": [
    "ALTERNATIVA: USAR make_pipeline:"
   ]
  },
  {
   "cell_type": "code",
   "execution_count": 13,
   "metadata": {},
   "outputs": [
    {
     "data": {
      "application/javascript": [
       "\n",
       "            setTimeout(function() {\n",
       "                var nbb_cell_id = 13;\n",
       "                var nbb_unformatted_code = \"# Criando o Preprocessamento no Pipeline\\nfrom sklearn.pipeline import make_pipeline\\nfrom sklearn.ensemble import RandomForestClassifier\\nfrom sklearn.pipeline import Pipeline\\nfrom sklearn.preprocessing import OneHotEncoder, StandardScaler, MinMaxScaler\\nfrom sklearn.compose import ColumnTransformer\\nfrom sklearn.decomposition import PCA\\nfrom sklearn.tree import DecisionTreeClassifier\\nfrom sklearn.impute import SimpleImputer\\nfrom sklearn.ensemble import RandomForestClassifier\\n\\n\\n# Usaremos columntransformer mesmo nao precisando. S\\u00f3 para deixar o c\\u00f3digo j\\u00e1 estruturado\\nnum_transformator = make_pipeline(SimpleImputer(strategy=\\\"median\\\"), StandardScaler())\\nt = [\\n    (\\n        \\\"num\\\",\\n        num_transformator,\\n        [\\n            \\\"acousticness\\\",\\n            \\\"danceability\\\",\\n            \\\"energy\\\",\\n            \\\"instrumentalness\\\",\\n            \\\"liveness\\\",\\n            \\\"speechiness\\\",\\n            \\\"tempo\\\",\\n            \\\"valence\\\",\\n        ],\\n    )\\n]\\n\\ntransformer = ColumnTransformer(transformers=t)\\n\\npipe2 = make_pipeline(transformer, RandomForestClassifier())\\n\\npipe2.fit(X_train, y_train)\\n\\n# Fita o modelo\\npipe2.fit(X_train, y_train)\\n\\n# predicoes\\ny_pred = pipe2.predict(X_test)\";\n",
       "                var nbb_formatted_code = \"# Criando o Preprocessamento no Pipeline\\nfrom sklearn.pipeline import make_pipeline\\nfrom sklearn.ensemble import RandomForestClassifier\\nfrom sklearn.pipeline import Pipeline\\nfrom sklearn.preprocessing import OneHotEncoder, StandardScaler, MinMaxScaler\\nfrom sklearn.compose import ColumnTransformer\\nfrom sklearn.decomposition import PCA\\nfrom sklearn.tree import DecisionTreeClassifier\\nfrom sklearn.impute import SimpleImputer\\nfrom sklearn.ensemble import RandomForestClassifier\\n\\n\\n# Usaremos columntransformer mesmo nao precisando. S\\u00f3 para deixar o c\\u00f3digo j\\u00e1 estruturado\\nnum_transformator = make_pipeline(SimpleImputer(strategy=\\\"median\\\"), StandardScaler())\\nt = [\\n    (\\n        \\\"num\\\",\\n        num_transformator,\\n        [\\n            \\\"acousticness\\\",\\n            \\\"danceability\\\",\\n            \\\"energy\\\",\\n            \\\"instrumentalness\\\",\\n            \\\"liveness\\\",\\n            \\\"speechiness\\\",\\n            \\\"tempo\\\",\\n            \\\"valence\\\",\\n        ],\\n    )\\n]\\n\\ntransformer = ColumnTransformer(transformers=t)\\n\\npipe2 = make_pipeline(transformer, RandomForestClassifier())\\n\\npipe2.fit(X_train, y_train)\\n\\n# Fita o modelo\\npipe2.fit(X_train, y_train)\\n\\n# predicoes\\ny_pred = pipe2.predict(X_test)\";\n",
       "                var nbb_cells = Jupyter.notebook.get_cells();\n",
       "                for (var i = 0; i < nbb_cells.length; ++i) {\n",
       "                    if (nbb_cells[i].input_prompt_number == nbb_cell_id) {\n",
       "                        if (nbb_cells[i].get_text() == nbb_unformatted_code) {\n",
       "                             nbb_cells[i].set_text(nbb_formatted_code);\n",
       "                        }\n",
       "                        break;\n",
       "                    }\n",
       "                }\n",
       "            }, 500);\n",
       "            "
      ],
      "text/plain": [
       "<IPython.core.display.Javascript object>"
      ]
     },
     "metadata": {},
     "output_type": "display_data"
    }
   ],
   "source": [
    "# EXEMPLO COM make_pipeline\n",
    "from sklearn.pipeline import make_pipeline\n",
    "from sklearn.ensemble import RandomForestClassifier\n",
    "from sklearn.pipeline import Pipeline\n",
    "from sklearn.preprocessing import OneHotEncoder, StandardScaler, MinMaxScaler\n",
    "from sklearn.compose import ColumnTransformer\n",
    "from sklearn.decomposition import PCA\n",
    "from sklearn.tree import DecisionTreeClassifier\n",
    "from sklearn.impute import SimpleImputer\n",
    "from sklearn.ensemble import RandomForestClassifier\n",
    "\n",
    "\n",
    "# Usaremos columntransformer mesmo nao precisando. Só para deixar o código já estruturado\n",
    "num_transformator = make_pipeline(SimpleImputer(strategy=\"median\"), StandardScaler())\n",
    "t = [\n",
    "    (\n",
    "        \"num\",\n",
    "        num_transformator,\n",
    "        [\n",
    "            \"acousticness\",\n",
    "            \"danceability\",\n",
    "            \"energy\",\n",
    "            \"instrumentalness\",\n",
    "            \"liveness\",\n",
    "            \"speechiness\",\n",
    "            \"tempo\",\n",
    "            \"valence\",\n",
    "        ],\n",
    "    )\n",
    "]\n",
    "\n",
    "transformer = ColumnTransformer(transformers=t)\n",
    "\n",
    "pipe2 = make_pipeline(transformer, RandomForestClassifier())\n",
    "\n",
    "pipe2.fit(X_train, y_train)\n",
    "\n",
    "# Fita o modelo\n",
    "pipe2.fit(X_train, y_train)\n",
    "\n",
    "# predicoes\n",
    "y_pred = pipe2.predict(X_test)\n",
    "\n",
    "# Acurácia do modelo\n",
    "from sklearn.metrics import accuracy_score\n",
    "\n",
    "print(\"Random Forest Accuracy: \\n\", accuracy_score(y_test, y_pred))\n",
    "\n",
    "# Classification report\n",
    "from sklearn.metrics import classification_report\n",
    "\n",
    "class_rep_rf = classification_report(y_test, y_pred)\n",
    "\n",
    "print(\"Random Forest: \\n\", class_rep_rf)\n",
    "\n",
    "# Matriz de Confusao\n",
    "from sklearn.metrics import confusion_matrix\n",
    "\n",
    "confusion_matrix(y_test, y_pred)"
   ]
  },
  {
   "cell_type": "markdown",
   "metadata": {},
   "source": [
    "O modelo foi bem melhor que o que foi feito no projeto. O único problema é que está errando  mais para o hip-hop. <br>\n",
    "Uma alternativa é usar class weight ou alguma técnica de oversampling/undersampling.<br>\n",
    "Veremos o que conseguimos fazer!"
   ]
  },
  {
   "cell_type": "markdown",
   "metadata": {},
   "source": [
    "# 3. TENTATIVAS DE TRATAMENTO DO DESBALANCEAMENTO"
   ]
  },
  {
   "cell_type": "markdown",
   "metadata": {},
   "source": [
    "## 3.1 CLASS_WEIGHT"
   ]
  },
  {
   "cell_type": "markdown",
   "metadata": {},
   "source": [
    "A ideia do class weight é aplicar pesos diferentes para classes diferentes. Claro que não há uma resposta simples para qual peso aplicar. Normalmente o que eu faço é pegar a diferença entre as classes e testar valores nos entornos dela. Exemplo: imagine que a classe 1 é 4x maior que a classe 0. Então, podemos testar a classe 0 com valor 1 e testar alguns valores para a classe 1 em torno de 4 (tipo testar de 2 a 10, podendo até tentar decimais com o np.linspace). Algo que já vi fazerem foi testar valores i em np.linspace(), sendo que a classe 0 recebe i e a classe 1 recebe 1-i. Outra coisa que rola de fazer também é testar com \"balanced\", costuma dar bom também!"
   ]
  },
  {
   "cell_type": "code",
   "execution_count": 7,
   "metadata": {},
   "outputs": [
    {
     "data": {
      "application/javascript": [
       "\n",
       "            setTimeout(function() {\n",
       "                var nbb_cell_id = 7;\n",
       "                var nbb_unformatted_code = \"from sklearn.metrics import precision_recall_fscore_support as score\\n\\n\\ndef trying_class_weight(class_weight):\\n    \\\"\\\"\\\" FUN\\u00c7\\u00c3O PARA TESTAR O RESULTADO DE DIFERENTES PESOS PARA AS CLASSES \\\"\\\"\\\"\\n    # Criando o Preprocessamento no Pipeline\\n    numeric_transformer = Pipeline(\\n        steps=[\\n            (\\\"imputer\\\", SimpleImputer(strategy=\\\"median\\\")),\\n            (\\\"scaler\\\", StandardScaler()),\\n        ]\\n    )\\n\\n    preprocessor = ColumnTransformer(\\n        transformers=[(\\\"num\\\", numeric_transformer, X_train.columns)]\\n    )\\n\\n    # Pipeline com random forest\\n    rf = Pipeline(\\n        steps=[\\n            (\\\"preprocessor\\\", preprocessor),\\n            (\\\"classifier\\\", RandomForestClassifier(class_weight=class_weight)),\\n        ]\\n    )\\n\\n    # Fita o modelo\\n    rf.fit(X_train, y_train)\\n\\n    # predicoes\\n    y_pred = rf.predict(X_test)\\n\\n    # Matriz de Confusao\\n    cm = confusion_matrix(y_test, y_pred)\\n    accuracy = (cm[0, 0] + cm[1, 1]) / len(y_test)\\n\\n    precision, recall, fscore, support = score(y_test, y_pred, average=\\\"macro\\\")\\n\\n    return accuracy, fscore\";\n",
       "                var nbb_formatted_code = \"from sklearn.metrics import precision_recall_fscore_support as score\\n\\n\\ndef trying_class_weight(class_weight):\\n    \\\"\\\"\\\" FUN\\u00c7\\u00c3O PARA TESTAR O RESULTADO DE DIFERENTES PESOS PARA AS CLASSES \\\"\\\"\\\"\\n    # Criando o Preprocessamento no Pipeline\\n    numeric_transformer = Pipeline(\\n        steps=[\\n            (\\\"imputer\\\", SimpleImputer(strategy=\\\"median\\\")),\\n            (\\\"scaler\\\", StandardScaler()),\\n        ]\\n    )\\n\\n    preprocessor = ColumnTransformer(\\n        transformers=[(\\\"num\\\", numeric_transformer, X_train.columns)]\\n    )\\n\\n    # Pipeline com random forest\\n    rf = Pipeline(\\n        steps=[\\n            (\\\"preprocessor\\\", preprocessor),\\n            (\\\"classifier\\\", RandomForestClassifier(class_weight=class_weight)),\\n        ]\\n    )\\n\\n    # Fita o modelo\\n    rf.fit(X_train, y_train)\\n\\n    # predicoes\\n    y_pred = rf.predict(X_test)\\n\\n    # Matriz de Confusao\\n    cm = confusion_matrix(y_test, y_pred)\\n    accuracy = (cm[0, 0] + cm[1, 1]) / len(y_test)\\n\\n    precision, recall, fscore, support = score(y_test, y_pred, average=\\\"macro\\\")\\n\\n    return accuracy, fscore\";\n",
       "                var nbb_cells = Jupyter.notebook.get_cells();\n",
       "                for (var i = 0; i < nbb_cells.length; ++i) {\n",
       "                    if (nbb_cells[i].input_prompt_number == nbb_cell_id) {\n",
       "                        if (nbb_cells[i].get_text() == nbb_unformatted_code) {\n",
       "                             nbb_cells[i].set_text(nbb_formatted_code);\n",
       "                        }\n",
       "                        break;\n",
       "                    }\n",
       "                }\n",
       "            }, 500);\n",
       "            "
      ],
      "text/plain": [
       "<IPython.core.display.Javascript object>"
      ]
     },
     "metadata": {},
     "output_type": "display_data"
    }
   ],
   "source": [
    "from sklearn.metrics import precision_recall_fscore_support as score\n",
    "\n",
    "\n",
    "def trying_class_weight(class_weight):\n",
    "    \"\"\" FUNÇÃO PARA TESTAR O RESULTADO DE DIFERENTES PESOS PARA AS CLASSES \"\"\"\n",
    "    # Criando o Preprocessamento no Pipeline\n",
    "    numeric_transformer = Pipeline(\n",
    "        steps=[\n",
    "            (\"imputer\", SimpleImputer(strategy=\"median\")),\n",
    "            (\"scaler\", StandardScaler()),\n",
    "        ]\n",
    "    )\n",
    "\n",
    "    preprocessor = ColumnTransformer(\n",
    "        transformers=[(\"num\", numeric_transformer, X_train.columns)]\n",
    "    )\n",
    "\n",
    "    # Pipeline com random forest\n",
    "    rf = Pipeline(\n",
    "        steps=[\n",
    "            (\"preprocessor\", preprocessor),\n",
    "            (\"classifier\", RandomForestClassifier(class_weight=class_weight)),\n",
    "        ]\n",
    "    )\n",
    "\n",
    "    # Fita o modelo\n",
    "    rf.fit(X_train, y_train)\n",
    "\n",
    "    # predicoes\n",
    "    y_pred = rf.predict(X_test)\n",
    "\n",
    "    # Matriz de Confusao\n",
    "    cm = confusion_matrix(y_test, y_pred)\n",
    "    accuracy = (cm[0, 0] + cm[1, 1]) / len(y_test)\n",
    "\n",
    "    precision, recall, fscore, support = score(y_test, y_pred, average=\"macro\")\n",
    "\n",
    "    return accuracy, fscore"
   ]
  },
  {
   "cell_type": "code",
   "execution_count": 8,
   "metadata": {},
   "outputs": [
    {
     "name": "stdout",
     "output_type": "stream",
     "text": [
      "For balanced:\n",
      "0.9215822345593337\n",
      "0.8656028775624576\n",
      "For None:\n",
      "0.9215822345593337\n",
      "0.8672265180035502\n",
      "For 1:4\n",
      "0.919500346981263\n",
      "0.8659061737902709\n"
     ]
    },
    {
     "data": {
      "application/javascript": [
       "\n",
       "            setTimeout(function() {\n",
       "                var nbb_cell_id = 8;\n",
       "                var nbb_unformatted_code = \"# Primeiro, algumas tentativas padr\\u00e3o:\\naccuracy, fscore = trying_class_weight(\\\"balanced\\\")\\nprint(\\\"For balanced:\\\")\\nprint(accuracy)\\nprint(fscore)\\n\\naccuracy, fscore = trying_class_weight(None)\\nprint(\\\"For None:\\\")\\nprint(accuracy)\\nprint(fscore)\\n\\naccuracy, fscore = trying_class_weight({\\\"Hip-Hop\\\": 1, \\\"Rock\\\": 4})\\nprint(\\\"For 1:4\\\")\\nprint(accuracy)\\nprint(fscore)\";\n",
       "                var nbb_formatted_code = \"# Primeiro, algumas tentativas padr\\u00e3o:\\naccuracy, fscore = trying_class_weight(\\\"balanced\\\")\\nprint(\\\"For balanced:\\\")\\nprint(accuracy)\\nprint(fscore)\\n\\naccuracy, fscore = trying_class_weight(None)\\nprint(\\\"For None:\\\")\\nprint(accuracy)\\nprint(fscore)\\n\\naccuracy, fscore = trying_class_weight({\\\"Hip-Hop\\\": 1, \\\"Rock\\\": 4})\\nprint(\\\"For 1:4\\\")\\nprint(accuracy)\\nprint(fscore)\";\n",
       "                var nbb_cells = Jupyter.notebook.get_cells();\n",
       "                for (var i = 0; i < nbb_cells.length; ++i) {\n",
       "                    if (nbb_cells[i].input_prompt_number == nbb_cell_id) {\n",
       "                        if (nbb_cells[i].get_text() == nbb_unformatted_code) {\n",
       "                             nbb_cells[i].set_text(nbb_formatted_code);\n",
       "                        }\n",
       "                        break;\n",
       "                    }\n",
       "                }\n",
       "            }, 500);\n",
       "            "
      ],
      "text/plain": [
       "<IPython.core.display.Javascript object>"
      ]
     },
     "metadata": {},
     "output_type": "display_data"
    }
   ],
   "source": [
    "# Primeiro, algumas tentativas padrão:\n",
    "accuracy, fscore = trying_class_weight(\"balanced\")\n",
    "print(\"For balanced:\")\n",
    "print(accuracy)\n",
    "print(fscore)\n",
    "\n",
    "accuracy, fscore = trying_class_weight(None)\n",
    "print(\"For None:\")\n",
    "print(accuracy)\n",
    "print(fscore)\n",
    "\n",
    "accuracy, fscore = trying_class_weight({\"Hip-Hop\": 1, \"Rock\": 4})\n",
    "print(\"For 1:4\")\n",
    "print(accuracy)\n",
    "print(fscore)\n"
   ]
  },
  {
   "cell_type": "markdown",
   "metadata": {},
   "source": [
    "Balanced e None deram quase a mesma coisa, que bizarro. Pior, para 1:4 o modelo cagou mais ainda. Vamos fazer novas tentativas..."
   ]
  },
  {
   "cell_type": "code",
   "execution_count": 9,
   "metadata": {},
   "outputs": [
    {
     "data": {
      "application/javascript": [
       "\n",
       "            setTimeout(function() {\n",
       "                var nbb_cell_id = 9;\n",
       "                var nbb_unformatted_code = \"# Vamos testando alguns n\\u00fameros entre 2 e 8 para rock (100 tentativas)\\nweights = []\\naccuracies = []\\nf1scores = []\\nfor i in np.linspace(2, 8, 100):\\n    accuracy, fscore = trying_class_weight({\\\"Hip-Hop\\\": 1, \\\"Rock\\\": i})\\n    weights.append(i)\\n    accuracies.append(accuracy)\\n    f1scores.append(fscore)\";\n",
       "                var nbb_formatted_code = \"# Vamos testando alguns n\\u00fameros entre 2 e 8 para rock (100 tentativas)\\nweights = []\\naccuracies = []\\nf1scores = []\\nfor i in np.linspace(2, 8, 100):\\n    accuracy, fscore = trying_class_weight({\\\"Hip-Hop\\\": 1, \\\"Rock\\\": i})\\n    weights.append(i)\\n    accuracies.append(accuracy)\\n    f1scores.append(fscore)\";\n",
       "                var nbb_cells = Jupyter.notebook.get_cells();\n",
       "                for (var i = 0; i < nbb_cells.length; ++i) {\n",
       "                    if (nbb_cells[i].input_prompt_number == nbb_cell_id) {\n",
       "                        if (nbb_cells[i].get_text() == nbb_unformatted_code) {\n",
       "                             nbb_cells[i].set_text(nbb_formatted_code);\n",
       "                        }\n",
       "                        break;\n",
       "                    }\n",
       "                }\n",
       "            }, 500);\n",
       "            "
      ],
      "text/plain": [
       "<IPython.core.display.Javascript object>"
      ]
     },
     "metadata": {},
     "output_type": "display_data"
    }
   ],
   "source": [
    "# Vamos testando alguns números entre 2 e 8 para rock (100 tentativas)\n",
    "weights = []\n",
    "accuracies = []\n",
    "f1scores = []\n",
    "\n",
    "# trying_class_weight é uma função que aplica o peso e ve acuracia e f1-score\n",
    "for i in np.linspace(2, 8, 100):\n",
    "    accuracy, fscore = trying_class_weight({\"Hip-Hop\": 1, \"Rock\": i})\n",
    "    weights.append(i)\n",
    "    accuracies.append(accuracy)\n",
    "    f1scores.append(fscore) # será que dá para criar um dict aqui?"
   ]
  },
  {
   "cell_type": "code",
   "execution_count": 14,
   "metadata": {},
   "outputs": [
    {
     "name": "stdout",
     "output_type": "stream",
     "text": [
      "0.926439972241499\n",
      "6.606060606060606\n"
     ]
    },
    {
     "data": {
      "application/javascript": [
       "\n",
       "            setTimeout(function() {\n",
       "                var nbb_cell_id = 14;\n",
       "                var nbb_unformatted_code = \"print(max(accuracies))\\nprint(weights[accuracies.index(max(accuracies))])\";\n",
       "                var nbb_formatted_code = \"print(max(accuracies))\\nprint(weights[accuracies.index(max(accuracies))])\";\n",
       "                var nbb_cells = Jupyter.notebook.get_cells();\n",
       "                for (var i = 0; i < nbb_cells.length; ++i) {\n",
       "                    if (nbb_cells[i].input_prompt_number == nbb_cell_id) {\n",
       "                        if (nbb_cells[i].get_text() == nbb_unformatted_code) {\n",
       "                             nbb_cells[i].set_text(nbb_formatted_code);\n",
       "                        }\n",
       "                        break;\n",
       "                    }\n",
       "                }\n",
       "            }, 500);\n",
       "            "
      ],
      "text/plain": [
       "<IPython.core.display.Javascript object>"
      ]
     },
     "metadata": {},
     "output_type": "display_data"
    }
   ],
   "source": [
    "print(max(accuracies))\n",
    "print(weights[accuracies.index(max(accuracies))])"
   ]
  },
  {
   "cell_type": "markdown",
   "metadata": {},
   "source": [
    "Na melhor situação, que foi com 1:6.06, o ganho foi de menos de 0.5pp, muito pouco... #chateado"
   ]
  },
  {
   "cell_type": "code",
   "execution_count": 15,
   "metadata": {},
   "outputs": [
    {
     "name": "stderr",
     "output_type": "stream",
     "text": [
      "/Users/andremota/opt/anaconda3/lib/python3.7/site-packages/sklearn/metrics/_classification.py:1221: UndefinedMetricWarning: Precision and F-score are ill-defined and being set to 0.0 in labels with no predicted samples. Use `zero_division` parameter to control this behavior.\n",
      "  _warn_prf(average, modifier, msg_start, len(result))\n",
      "/Users/andremota/opt/anaconda3/lib/python3.7/site-packages/sklearn/metrics/_classification.py:1221: UndefinedMetricWarning: Precision and F-score are ill-defined and being set to 0.0 in labels with no predicted samples. Use `zero_division` parameter to control this behavior.\n",
      "  _warn_prf(average, modifier, msg_start, len(result))\n"
     ]
    },
    {
     "data": {
      "application/javascript": [
       "\n",
       "            setTimeout(function() {\n",
       "                var nbb_cell_id = 15;\n",
       "                var nbb_unformatted_code = \"# Vamos de tentar isso aqui que achei pela internet e ainda n\\u00e3o entendi bem a l\\u00f3gica matem\\u00e1tica \\nweights = []\\naccuracies = []\\nf1scores = []\\nfor i in np.linspace(0.0, 1, 100):\\n    accuracy, fscore = trying_class_weight({\\\"Hip-Hop\\\": i, \\\"Rock\\\": 1 - i})\\n    weights.append(i)\\n    accuracies.append(accuracy)\\n    f1scores.append(fscore)\";\n",
       "                var nbb_formatted_code = \"# Vamos de tentar isso aqui que achei pela internet e ainda n\\u00e3o entendi bem a l\\u00f3gica matem\\u00e1tica\\nweights = []\\naccuracies = []\\nf1scores = []\\nfor i in np.linspace(0.0, 1, 100):\\n    accuracy, fscore = trying_class_weight({\\\"Hip-Hop\\\": i, \\\"Rock\\\": 1 - i})\\n    weights.append(i)\\n    accuracies.append(accuracy)\\n    f1scores.append(fscore)\";\n",
       "                var nbb_cells = Jupyter.notebook.get_cells();\n",
       "                for (var i = 0; i < nbb_cells.length; ++i) {\n",
       "                    if (nbb_cells[i].input_prompt_number == nbb_cell_id) {\n",
       "                        if (nbb_cells[i].get_text() == nbb_unformatted_code) {\n",
       "                             nbb_cells[i].set_text(nbb_formatted_code);\n",
       "                        }\n",
       "                        break;\n",
       "                    }\n",
       "                }\n",
       "            }, 500);\n",
       "            "
      ],
      "text/plain": [
       "<IPython.core.display.Javascript object>"
      ]
     },
     "metadata": {},
     "output_type": "display_data"
    }
   ],
   "source": [
    "# Vamos de tentar isso aqui que achei pela internet e ainda não entendi bem a lógica matemática\n",
    "weights = []\n",
    "accuracies = []\n",
    "f1scores = []\n",
    "for i in np.linspace(0.0, 1, 100):\n",
    "    accuracy, fscore = trying_class_weight({\"Hip-Hop\": i, \"Rock\": 1 - i})\n",
    "    weights.append(i)\n",
    "    accuracies.append(accuracy)\n",
    "    f1scores.append(fscore)"
   ]
  },
  {
   "cell_type": "code",
   "execution_count": 16,
   "metadata": {},
   "outputs": [
    {
     "name": "stdout",
     "output_type": "stream",
     "text": [
      "0.9257460097154754\n",
      "0.3434343434343435\n"
     ]
    },
    {
     "data": {
      "application/javascript": [
       "\n",
       "            setTimeout(function() {\n",
       "                var nbb_cell_id = 16;\n",
       "                var nbb_unformatted_code = \"print(max(accuracies))\\nprint(weights[accuracies.index(max(accuracies))])\";\n",
       "                var nbb_formatted_code = \"print(max(accuracies))\\nprint(weights[accuracies.index(max(accuracies))])\";\n",
       "                var nbb_cells = Jupyter.notebook.get_cells();\n",
       "                for (var i = 0; i < nbb_cells.length; ++i) {\n",
       "                    if (nbb_cells[i].input_prompt_number == nbb_cell_id) {\n",
       "                        if (nbb_cells[i].get_text() == nbb_unformatted_code) {\n",
       "                             nbb_cells[i].set_text(nbb_formatted_code);\n",
       "                        }\n",
       "                        break;\n",
       "                    }\n",
       "                }\n",
       "            }, 500);\n",
       "            "
      ],
      "text/plain": [
       "<IPython.core.display.Javascript object>"
      ]
     },
     "metadata": {},
     "output_type": "display_data"
    }
   ],
   "source": [
    "print(max(accuracies))\n",
    "print(weights[accuracies.index(max(accuracies))])"
   ]
  },
  {
   "cell_type": "markdown",
   "metadata": {},
   "source": [
    "Ainda tá meio merda. Vamos de SMOTE?"
   ]
  },
  {
   "cell_type": "markdown",
   "metadata": {},
   "source": [
    "# 4. EXTRAS"
   ]
  },
  {
   "cell_type": "markdown",
   "metadata": {},
   "source": [
    "## RANDOMIZED SEARCH"
   ]
  },
  {
   "cell_type": "markdown",
   "metadata": {},
   "source": [
    "Vamos tunar os hiperparâmetros da Random Forest, mas com o Randomized porque o Grid vai levar a vida toda."
   ]
  },
  {
   "cell_type": "code",
   "execution_count": null,
   "metadata": {},
   "outputs": [],
   "source": [
    "from sklearn.model_selection import RandomizedSearchCV\n",
    "\n",
    "n_estimators = [int(x) for x in np.linspace(start = 200, stop = 2000, num = 10)]\n",
    "max_features = ['auto', 'sqrt']\n",
    "max_depth = [int(x) for x in np.linspace(10, 110, num = 11)]\n",
    "max_depth.append(None)\n",
    "min_samples_split = [2, 5, 10]\n",
    "min_samples_leaf = [1, 2, 4]\n",
    "bootstrap = [True, False]\n",
    "\n",
    "random_grid = {'n_estimators': n_estimators,\n",
    "               'max_features': max_features,\n",
    "               'max_depth': max_depth,\n",
    "               'min_samples_split': min_samples_split,\n",
    "               'min_samples_leaf': min_samples_leaf,\n",
    "               'bootstrap': bootstrap}\n",
    "\n",
    "\n",
    "rf = RandomForestClassifier()\n",
    "\n",
    "rf_random = RandomizedSearchCV(rf, param_distributions = random_grid, n_iter = 300, cv = 3, verbose=2, random_state=42, n_jobs = -1)\n",
    "\n",
    "# Fit the random search model\n",
    "rf_random.fit(X_train, y_train)\n",
    "\n",
    "# best model\n",
    "print(rf_random.best_params_)"
   ]
  },
  {
   "cell_type": "code",
   "execution_count": null,
   "metadata": {},
   "outputs": [],
   "source": [
    "# MODELO COM PIPELINE\n",
    "from sklearn.pipeline import Pipeline\n",
    "from sklearn.preprocessing import OneHotEncoder, StandardScaler, MinMaxScaler\n",
    "from sklearn.compose import ColumnTransformer\n",
    "from sklearn.decomposition import PCA\n",
    "from sklearn.tree import DecisionTreeClassifier\n",
    "from sklearn.impute import SimpleImputer\n",
    "\n",
    "# Criando o Preprocessamento no Pipeline\n",
    "numeric_transformer = Pipeline(steps=[\n",
    "    ('imputer', SimpleImputer(strategy='median')),\n",
    "    ('scaler', StandardScaler())])\n",
    "\n",
    "preprocessor = ColumnTransformer(\n",
    "    transformers=[\n",
    "        ('num', numeric_transformer, X_train.columns)])\n",
    "\n",
    "# Pipeline com random forest\n",
    "from sklearn.ensemble import RandomForestClassifier\n",
    "rf = Pipeline(steps=[('preprocessor', preprocessor),\n",
    "                      ('classifier', RandomForestClassifier(n_estimators= 200,\n",
    "                                                            min_samples_split=10,\n",
    "                                                            min_samples_leaf= 1,\n",
    "                                                            max_features='sqrt',\n",
    "                                                            max_depth= 40,\n",
    "                                                            bootstrap= False))])\n",
    "\n",
    "\n",
    "# Fita o modelo\n",
    "rf.fit(X_train, y_train)\n",
    "\n",
    "# predicoes\n",
    "y_pred = rf.predict(X_test)\n",
    "\n",
    "# Acurácia do modelo\n",
    "from sklearn.metrics import accuracy_score\n",
    "print(\"Random Forest Accuracy: \\n\",accuracy_score(y_test, y_pred))\n",
    "\n",
    "# Classification report\n",
    "from sklearn.metrics import classification_report\n",
    "class_rep_rf = classification_report(y_test, y_pred)\n",
    "\n",
    "print(\"Random Forest: \\n\", class_rep_rf)\n",
    "\n",
    "# Matriz de Confusao\n",
    "from sklearn.metrics import confusion_matrix\n",
    "confusion_matrix(y_test, y_pred)"
   ]
  },
  {
   "cell_type": "markdown",
   "metadata": {},
   "source": [
    "Veja que o modelo não melhorou, e piorou em alguns casos (f1-score)"
   ]
  },
  {
   "cell_type": "markdown",
   "metadata": {},
   "source": [
    "## PIPELINE PARA SELEÇÃO DO MODELO"
   ]
  },
  {
   "cell_type": "markdown",
   "metadata": {},
   "source": [
    "Antes de tentarmos melhorar o balanceamento, vamos só fazer uma brincadeirinha aqui e testar vários modelos com os parâmetros padrão mesmo e ver qual tem melhor resultado. Mera curiosidade."
   ]
  },
  {
   "cell_type": "code",
   "execution_count": 31,
   "metadata": {},
   "outputs": [
    {
     "name": "stdout",
     "output_type": "stream",
     "text": [
      "KNeighborsClassifier(n_neighbors=3)\n",
      "model score: 0.895\n",
      "SVC(C=0.025, probability=True)\n",
      "model score: 0.863\n",
      "SVC()\n",
      "model score: 0.912\n",
      "LogisticRegression()\n",
      "model score: 0.888\n",
      "DecisionTreeClassifier()\n",
      "model score: 0.872\n",
      "RandomForestClassifier()\n",
      "model score: 0.924\n",
      "AdaBoostClassifier()\n",
      "model score: 0.913\n",
      "GradientBoostingClassifier()\n",
      "model score: 0.917\n"
     ]
    },
    {
     "data": {
      "application/javascript": [
       "\n",
       "            setTimeout(function() {\n",
       "                var nbb_cell_id = 31;\n",
       "                var nbb_unformatted_code = \"from sklearn.metrics import accuracy_score, log_loss\\nfrom sklearn.neighbors import KNeighborsClassifier\\nfrom sklearn.svm import SVC, LinearSVC, NuSVC\\nfrom sklearn.tree import DecisionTreeClassifier\\nfrom sklearn.ensemble import (\\n    RandomForestClassifier,\\n    AdaBoostClassifier,\\n    GradientBoostingClassifier,\\n)\\nfrom sklearn.discriminant_analysis import LinearDiscriminantAnalysis\\nfrom sklearn.discriminant_analysis import QuadraticDiscriminantAnalysis\\nfrom sklearn.linear_model import LogisticRegression\\n\\nclassifiers = [\\n    KNeighborsClassifier(3),\\n    SVC(kernel=\\\"rbf\\\", C=0.025, probability=True),\\n    SVC(),\\n    LogisticRegression(),\\n    DecisionTreeClassifier(),\\n    RandomForestClassifier(),\\n    AdaBoostClassifier(),\\n    GradientBoostingClassifier(),\\n]\\n\\nfor classifier in classifiers:\\n    pipe = Pipeline(steps=[(\\\"preprocessor\\\", preprocessor), (\\\"classifier\\\", classifier)])\\n    pipe.fit(X_train, y_train)\\n    print(classifier)\\n    print(\\\"model score: %.3f\\\" % pipe.score(X_test, y_test))\";\n",
       "                var nbb_formatted_code = \"from sklearn.metrics import accuracy_score, log_loss\\nfrom sklearn.neighbors import KNeighborsClassifier\\nfrom sklearn.svm import SVC, LinearSVC, NuSVC\\nfrom sklearn.tree import DecisionTreeClassifier\\nfrom sklearn.ensemble import (\\n    RandomForestClassifier,\\n    AdaBoostClassifier,\\n    GradientBoostingClassifier,\\n)\\nfrom sklearn.discriminant_analysis import LinearDiscriminantAnalysis\\nfrom sklearn.discriminant_analysis import QuadraticDiscriminantAnalysis\\nfrom sklearn.linear_model import LogisticRegression\\n\\nclassifiers = [\\n    KNeighborsClassifier(3),\\n    SVC(kernel=\\\"rbf\\\", C=0.025, probability=True),\\n    SVC(),\\n    LogisticRegression(),\\n    DecisionTreeClassifier(),\\n    RandomForestClassifier(),\\n    AdaBoostClassifier(),\\n    GradientBoostingClassifier(),\\n]\\n\\nfor classifier in classifiers:\\n    pipe = Pipeline(steps=[(\\\"preprocessor\\\", preprocessor), (\\\"classifier\\\", classifier)])\\n    pipe.fit(X_train, y_train)\\n    print(classifier)\\n    print(\\\"model score: %.3f\\\" % pipe.score(X_test, y_test))\";\n",
       "                var nbb_cells = Jupyter.notebook.get_cells();\n",
       "                for (var i = 0; i < nbb_cells.length; ++i) {\n",
       "                    if (nbb_cells[i].input_prompt_number == nbb_cell_id) {\n",
       "                        if (nbb_cells[i].get_text() == nbb_unformatted_code) {\n",
       "                             nbb_cells[i].set_text(nbb_formatted_code);\n",
       "                        }\n",
       "                        break;\n",
       "                    }\n",
       "                }\n",
       "            }, 500);\n",
       "            "
      ],
      "text/plain": [
       "<IPython.core.display.Javascript object>"
      ]
     },
     "metadata": {},
     "output_type": "display_data"
    }
   ],
   "source": [
    "from sklearn.metrics import accuracy_score, log_loss\n",
    "from sklearn.neighbors import KNeighborsClassifier\n",
    "from sklearn.svm import SVC, LinearSVC, NuSVC\n",
    "from sklearn.tree import DecisionTreeClassifier\n",
    "from sklearn.ensemble import (\n",
    "    RandomForestClassifier,\n",
    "    AdaBoostClassifier,\n",
    "    GradientBoostingClassifier,\n",
    ")\n",
    "from sklearn.discriminant_analysis import LinearDiscriminantAnalysis\n",
    "from sklearn.discriminant_analysis import QuadraticDiscriminantAnalysis\n",
    "from sklearn.linear_model import LogisticRegression\n",
    "\n",
    "classifiers = [\n",
    "    KNeighborsClassifier(3),\n",
    "    SVC(kernel=\"rbf\", C=0.025, probability=True),\n",
    "    SVC(),\n",
    "    LogisticRegression(),\n",
    "    DecisionTreeClassifier(),\n",
    "    RandomForestClassifier(),\n",
    "    AdaBoostClassifier(),\n",
    "    GradientBoostingClassifier(),\n",
    "]\n",
    "\n",
    "for classifier in classifiers:\n",
    "    pipe = Pipeline(steps=[(\"preprocessor\", preprocessor), (\"classifier\", classifier)])\n",
    "    pipe.fit(X_train, y_train)\n",
    "    print(classifier)\n",
    "    print(\"model score: %.3f\" % pipe.score(X_test, y_test))"
   ]
  },
  {
   "cell_type": "code",
   "execution_count": null,
   "metadata": {},
   "outputs": [],
   "source": []
  }
 ],
 "metadata": {
  "kernelspec": {
   "display_name": "Python 3",
   "language": "python",
   "name": "python3"
  },
  "language_info": {
   "codemirror_mode": {
    "name": "ipython",
    "version": 3
   },
   "file_extension": ".py",
   "mimetype": "text/x-python",
   "name": "python",
   "nbconvert_exporter": "python",
   "pygments_lexer": "ipython3",
   "version": "3.7.6"
  }
 },
 "nbformat": 4,
 "nbformat_minor": 4
}
